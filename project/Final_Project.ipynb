{
 "cells": [
  {
   "cell_type": "markdown",
   "metadata": {},
   "source": [
    "<div dir='rtl'>\n",
    "در این بخش به پیش پردازش مجموعه داده ها می پردازیم.\n",
    "</div>"
   ]
  },
  {
   "cell_type": "code",
   "execution_count": 1,
   "metadata": {},
   "outputs": [],
   "source": [
    "import pandas as pd\n",
    "import numpy as np\n",
    "import matplotlib.pyplot as plt"
   ]
  },
  {
   "cell_type": "code",
   "execution_count": 2,
   "metadata": {},
   "outputs": [],
   "source": [
    "df = pd.read_csv(\"diabetes.csv\")"
   ]
  },
  {
   "cell_type": "code",
   "execution_count": 3,
   "metadata": {},
   "outputs": [],
   "source": [
    "df.drop(columns=['Unnamed: 0'], inplace=True)"
   ]
  },
  {
   "cell_type": "markdown",
   "metadata": {},
   "source": [
    "<div dir='rtl'>\n",
    "در ابتدا باید ببنیم که تایپ هر داده به چه صورت است تا تصمیمات لازم برای پیش پردازش را بگیریم.\n",
    "</div>"
   ]
  },
  {
   "cell_type": "code",
   "execution_count": 4,
   "metadata": {},
   "outputs": [
    {
     "name": "stdout",
     "output_type": "stream",
     "text": [
      "<class 'pandas.core.frame.DataFrame'>\n",
      "RangeIndex: 70692 entries, 0 to 70691\n",
      "Data columns (total 22 columns):\n",
      " #   Column                     Non-Null Count  Dtype  \n",
      "---  ------                     --------------  -----  \n",
      " 0   Diabetes_binary            70692 non-null  float64\n",
      " 1   HighBP                     70692 non-null  float64\n",
      " 2   High Cholesterol           70692 non-null  float64\n",
      " 3   Cholesterol Check          70692 non-null  float64\n",
      " 4   BMI                        70691 non-null  float64\n",
      " 5   Smoker                     70692 non-null  float64\n",
      " 6   Stroke                     70692 non-null  float64\n",
      " 7   HeartDiseaseorAttack       70691 non-null  float64\n",
      " 8   Physical Activity          70691 non-null  float64\n",
      " 9   Fruits                     70690 non-null  float64\n",
      " 10  Veggies                    70691 non-null  float64\n",
      " 11  Heavy Alcohol Consumption  70691 non-null  float64\n",
      " 12  Any Health Care            70690 non-null  float64\n",
      " 13  No Doctor because of Cost  70690 non-null  float64\n",
      " 14  General Health             70691 non-null  object \n",
      " 15  Mental Health              70691 non-null  float64\n",
      " 16  Physical Health            70691 non-null  float64\n",
      " 17  Difficulty Walking         70690 non-null  float64\n",
      " 18  Sex                        70691 non-null  object \n",
      " 19  Age                        70691 non-null  float64\n",
      " 20  Education                  70691 non-null  object \n",
      " 21  Income                     70691 non-null  object \n",
      "dtypes: float64(18), object(4)\n",
      "memory usage: 11.9+ MB\n"
     ]
    }
   ],
   "source": [
    "df.info()"
   ]
  },
  {
   "cell_type": "code",
   "execution_count": 5,
   "metadata": {},
   "outputs": [
    {
     "data": {
      "text/html": [
       "<div>\n",
       "<style scoped>\n",
       "    .dataframe tbody tr th:only-of-type {\n",
       "        vertical-align: middle;\n",
       "    }\n",
       "\n",
       "    .dataframe tbody tr th {\n",
       "        vertical-align: top;\n",
       "    }\n",
       "\n",
       "    .dataframe thead th {\n",
       "        text-align: right;\n",
       "    }\n",
       "</style>\n",
       "<table border=\"1\" class=\"dataframe\">\n",
       "  <thead>\n",
       "    <tr style=\"text-align: right;\">\n",
       "      <th></th>\n",
       "      <th>Diabetes_binary</th>\n",
       "      <th>HighBP</th>\n",
       "      <th>High Cholesterol</th>\n",
       "      <th>Cholesterol Check</th>\n",
       "      <th>BMI</th>\n",
       "      <th>Smoker</th>\n",
       "      <th>Stroke</th>\n",
       "      <th>HeartDiseaseorAttack</th>\n",
       "      <th>Physical Activity</th>\n",
       "      <th>Fruits</th>\n",
       "      <th>Veggies</th>\n",
       "      <th>Heavy Alcohol Consumption</th>\n",
       "      <th>Any Health Care</th>\n",
       "      <th>No Doctor because of Cost</th>\n",
       "      <th>Mental Health</th>\n",
       "      <th>Physical Health</th>\n",
       "      <th>Difficulty Walking</th>\n",
       "      <th>Age</th>\n",
       "    </tr>\n",
       "  </thead>\n",
       "  <tbody>\n",
       "    <tr>\n",
       "      <th>count</th>\n",
       "      <td>70692.000000</td>\n",
       "      <td>70692.000000</td>\n",
       "      <td>70692.000000</td>\n",
       "      <td>70692.000000</td>\n",
       "      <td>70691.000000</td>\n",
       "      <td>70692.000000</td>\n",
       "      <td>70692.000000</td>\n",
       "      <td>70691.000000</td>\n",
       "      <td>70691.000000</td>\n",
       "      <td>70690.000000</td>\n",
       "      <td>70691.000000</td>\n",
       "      <td>70691.000000</td>\n",
       "      <td>70690.000000</td>\n",
       "      <td>70690.000000</td>\n",
       "      <td>70691.000000</td>\n",
       "      <td>70691.000000</td>\n",
       "      <td>70690.000000</td>\n",
       "      <td>70691.000000</td>\n",
       "    </tr>\n",
       "    <tr>\n",
       "      <th>mean</th>\n",
       "      <td>0.500000</td>\n",
       "      <td>0.563458</td>\n",
       "      <td>0.525703</td>\n",
       "      <td>0.975259</td>\n",
       "      <td>29.856955</td>\n",
       "      <td>0.475273</td>\n",
       "      <td>0.062171</td>\n",
       "      <td>0.147812</td>\n",
       "      <td>0.703032</td>\n",
       "      <td>0.611784</td>\n",
       "      <td>0.788771</td>\n",
       "      <td>0.042721</td>\n",
       "      <td>0.954958</td>\n",
       "      <td>0.093917</td>\n",
       "      <td>3.752062</td>\n",
       "      <td>5.810499</td>\n",
       "      <td>0.252737</td>\n",
       "      <td>8.584105</td>\n",
       "    </tr>\n",
       "    <tr>\n",
       "      <th>std</th>\n",
       "      <td>0.500004</td>\n",
       "      <td>0.495960</td>\n",
       "      <td>0.499342</td>\n",
       "      <td>0.155336</td>\n",
       "      <td>7.114000</td>\n",
       "      <td>0.499392</td>\n",
       "      <td>0.241468</td>\n",
       "      <td>0.354916</td>\n",
       "      <td>0.456926</td>\n",
       "      <td>0.487348</td>\n",
       "      <td>0.408183</td>\n",
       "      <td>0.202229</td>\n",
       "      <td>0.207397</td>\n",
       "      <td>0.291715</td>\n",
       "      <td>8.155682</td>\n",
       "      <td>10.062308</td>\n",
       "      <td>0.434585</td>\n",
       "      <td>2.852141</td>\n",
       "    </tr>\n",
       "    <tr>\n",
       "      <th>min</th>\n",
       "      <td>0.000000</td>\n",
       "      <td>0.000000</td>\n",
       "      <td>0.000000</td>\n",
       "      <td>0.000000</td>\n",
       "      <td>12.000000</td>\n",
       "      <td>0.000000</td>\n",
       "      <td>0.000000</td>\n",
       "      <td>0.000000</td>\n",
       "      <td>0.000000</td>\n",
       "      <td>0.000000</td>\n",
       "      <td>0.000000</td>\n",
       "      <td>0.000000</td>\n",
       "      <td>0.000000</td>\n",
       "      <td>0.000000</td>\n",
       "      <td>0.000000</td>\n",
       "      <td>0.000000</td>\n",
       "      <td>0.000000</td>\n",
       "      <td>1.000000</td>\n",
       "    </tr>\n",
       "    <tr>\n",
       "      <th>25%</th>\n",
       "      <td>0.000000</td>\n",
       "      <td>0.000000</td>\n",
       "      <td>0.000000</td>\n",
       "      <td>1.000000</td>\n",
       "      <td>25.000000</td>\n",
       "      <td>0.000000</td>\n",
       "      <td>0.000000</td>\n",
       "      <td>0.000000</td>\n",
       "      <td>0.000000</td>\n",
       "      <td>0.000000</td>\n",
       "      <td>1.000000</td>\n",
       "      <td>0.000000</td>\n",
       "      <td>1.000000</td>\n",
       "      <td>0.000000</td>\n",
       "      <td>0.000000</td>\n",
       "      <td>0.000000</td>\n",
       "      <td>0.000000</td>\n",
       "      <td>7.000000</td>\n",
       "    </tr>\n",
       "    <tr>\n",
       "      <th>50%</th>\n",
       "      <td>0.500000</td>\n",
       "      <td>1.000000</td>\n",
       "      <td>1.000000</td>\n",
       "      <td>1.000000</td>\n",
       "      <td>29.000000</td>\n",
       "      <td>0.000000</td>\n",
       "      <td>0.000000</td>\n",
       "      <td>0.000000</td>\n",
       "      <td>1.000000</td>\n",
       "      <td>1.000000</td>\n",
       "      <td>1.000000</td>\n",
       "      <td>0.000000</td>\n",
       "      <td>1.000000</td>\n",
       "      <td>0.000000</td>\n",
       "      <td>0.000000</td>\n",
       "      <td>0.000000</td>\n",
       "      <td>0.000000</td>\n",
       "      <td>9.000000</td>\n",
       "    </tr>\n",
       "    <tr>\n",
       "      <th>75%</th>\n",
       "      <td>1.000000</td>\n",
       "      <td>1.000000</td>\n",
       "      <td>1.000000</td>\n",
       "      <td>1.000000</td>\n",
       "      <td>33.000000</td>\n",
       "      <td>1.000000</td>\n",
       "      <td>0.000000</td>\n",
       "      <td>0.000000</td>\n",
       "      <td>1.000000</td>\n",
       "      <td>1.000000</td>\n",
       "      <td>1.000000</td>\n",
       "      <td>0.000000</td>\n",
       "      <td>1.000000</td>\n",
       "      <td>0.000000</td>\n",
       "      <td>2.000000</td>\n",
       "      <td>6.000000</td>\n",
       "      <td>1.000000</td>\n",
       "      <td>11.000000</td>\n",
       "    </tr>\n",
       "    <tr>\n",
       "      <th>max</th>\n",
       "      <td>1.000000</td>\n",
       "      <td>1.000000</td>\n",
       "      <td>1.000000</td>\n",
       "      <td>1.000000</td>\n",
       "      <td>98.000000</td>\n",
       "      <td>1.000000</td>\n",
       "      <td>1.000000</td>\n",
       "      <td>1.000000</td>\n",
       "      <td>1.000000</td>\n",
       "      <td>1.000000</td>\n",
       "      <td>1.000000</td>\n",
       "      <td>1.000000</td>\n",
       "      <td>1.000000</td>\n",
       "      <td>1.000000</td>\n",
       "      <td>30.000000</td>\n",
       "      <td>30.000000</td>\n",
       "      <td>1.000000</td>\n",
       "      <td>13.000000</td>\n",
       "    </tr>\n",
       "  </tbody>\n",
       "</table>\n",
       "</div>"
      ],
      "text/plain": [
       "       Diabetes_binary        HighBP  High Cholesterol  Cholesterol Check  \\\n",
       "count     70692.000000  70692.000000      70692.000000       70692.000000   \n",
       "mean          0.500000      0.563458          0.525703           0.975259   \n",
       "std           0.500004      0.495960          0.499342           0.155336   \n",
       "min           0.000000      0.000000          0.000000           0.000000   \n",
       "25%           0.000000      0.000000          0.000000           1.000000   \n",
       "50%           0.500000      1.000000          1.000000           1.000000   \n",
       "75%           1.000000      1.000000          1.000000           1.000000   \n",
       "max           1.000000      1.000000          1.000000           1.000000   \n",
       "\n",
       "                BMI        Smoker        Stroke  HeartDiseaseorAttack  \\\n",
       "count  70691.000000  70692.000000  70692.000000          70691.000000   \n",
       "mean      29.856955      0.475273      0.062171              0.147812   \n",
       "std        7.114000      0.499392      0.241468              0.354916   \n",
       "min       12.000000      0.000000      0.000000              0.000000   \n",
       "25%       25.000000      0.000000      0.000000              0.000000   \n",
       "50%       29.000000      0.000000      0.000000              0.000000   \n",
       "75%       33.000000      1.000000      0.000000              0.000000   \n",
       "max       98.000000      1.000000      1.000000              1.000000   \n",
       "\n",
       "       Physical Activity        Fruits       Veggies  \\\n",
       "count       70691.000000  70690.000000  70691.000000   \n",
       "mean            0.703032      0.611784      0.788771   \n",
       "std             0.456926      0.487348      0.408183   \n",
       "min             0.000000      0.000000      0.000000   \n",
       "25%             0.000000      0.000000      1.000000   \n",
       "50%             1.000000      1.000000      1.000000   \n",
       "75%             1.000000      1.000000      1.000000   \n",
       "max             1.000000      1.000000      1.000000   \n",
       "\n",
       "       Heavy Alcohol Consumption  Any Health Care  No Doctor because of Cost  \\\n",
       "count               70691.000000     70690.000000               70690.000000   \n",
       "mean                    0.042721         0.954958                   0.093917   \n",
       "std                     0.202229         0.207397                   0.291715   \n",
       "min                     0.000000         0.000000                   0.000000   \n",
       "25%                     0.000000         1.000000                   0.000000   \n",
       "50%                     0.000000         1.000000                   0.000000   \n",
       "75%                     0.000000         1.000000                   0.000000   \n",
       "max                     1.000000         1.000000                   1.000000   \n",
       "\n",
       "       Mental Health  Physical Health  Difficulty Walking           Age  \n",
       "count   70691.000000     70691.000000        70690.000000  70691.000000  \n",
       "mean        3.752062         5.810499            0.252737      8.584105  \n",
       "std         8.155682        10.062308            0.434585      2.852141  \n",
       "min         0.000000         0.000000            0.000000      1.000000  \n",
       "25%         0.000000         0.000000            0.000000      7.000000  \n",
       "50%         0.000000         0.000000            0.000000      9.000000  \n",
       "75%         2.000000         6.000000            1.000000     11.000000  \n",
       "max        30.000000        30.000000            1.000000     13.000000  "
      ]
     },
     "execution_count": 5,
     "metadata": {},
     "output_type": "execute_result"
    }
   ],
   "source": [
    "df.describe()"
   ]
  },
  {
   "cell_type": "markdown",
   "metadata": {},
   "source": [
    "<div dir='rtl'>\n",
    "همانطور که دیده می شود تعداد از سطر ها مجموعه داده دارای مقادیر \n",
    "    nan\n",
    "    و \n",
    "    null\n",
    "    هستند.\n",
    "</div>"
   ]
  },
  {
   "cell_type": "code",
   "execution_count": 6,
   "metadata": {
    "scrolled": false
   },
   "outputs": [
    {
     "data": {
      "text/plain": [
       "Diabetes_binary              0\n",
       "HighBP                       0\n",
       "High Cholesterol             0\n",
       "Cholesterol Check            0\n",
       "BMI                          1\n",
       "Smoker                       0\n",
       "Stroke                       0\n",
       "HeartDiseaseorAttack         1\n",
       "Physical Activity            1\n",
       "Fruits                       2\n",
       "Veggies                      1\n",
       "Heavy Alcohol Consumption    1\n",
       "Any Health Care              2\n",
       "No Doctor because of Cost    2\n",
       "General Health               1\n",
       "Mental Health                1\n",
       "Physical Health              1\n",
       "Difficulty Walking           2\n",
       "Sex                          1\n",
       "Age                          1\n",
       "Education                    1\n",
       "Income                       1\n",
       "dtype: int64"
      ]
     },
     "execution_count": 6,
     "metadata": {},
     "output_type": "execute_result"
    }
   ],
   "source": [
    "df.isnull().sum()"
   ]
  },
  {
   "cell_type": "code",
   "execution_count": 7,
   "metadata": {},
   "outputs": [
    {
     "data": {
      "text/plain": [
       "Diabetes_binary              0\n",
       "HighBP                       0\n",
       "High Cholesterol             0\n",
       "Cholesterol Check            0\n",
       "BMI                          1\n",
       "Smoker                       0\n",
       "Stroke                       0\n",
       "HeartDiseaseorAttack         1\n",
       "Physical Activity            1\n",
       "Fruits                       2\n",
       "Veggies                      1\n",
       "Heavy Alcohol Consumption    1\n",
       "Any Health Care              2\n",
       "No Doctor because of Cost    2\n",
       "General Health               1\n",
       "Mental Health                1\n",
       "Physical Health              1\n",
       "Difficulty Walking           2\n",
       "Sex                          1\n",
       "Age                          1\n",
       "Education                    1\n",
       "Income                       1\n",
       "dtype: int64"
      ]
     },
     "execution_count": 7,
     "metadata": {},
     "output_type": "execute_result"
    }
   ],
   "source": [
    "df.isna().sum()"
   ]
  },
  {
   "cell_type": "markdown",
   "metadata": {},
   "source": [
    "<div dir='rtl'>\n",
    "همچنین در ستون های مربوط به داده های \n",
    "categorical\n",
    "نیز مقادیر \n",
    "    null\n",
    "    دیده می شود.\n",
    "\n",
    "</div>"
   ]
  },
  {
   "cell_type": "code",
   "execution_count": 8,
   "metadata": {},
   "outputs": [
    {
     "data": {
      "text/plain": [
       "General Health    1\n",
       "Sex               1\n",
       "Education         1\n",
       "Income            1\n",
       "dtype: int64"
      ]
     },
     "execution_count": 8,
     "metadata": {},
     "output_type": "execute_result"
    }
   ],
   "source": [
    "df.select_dtypes(['object']).isna().sum()"
   ]
  },
  {
   "cell_type": "markdown",
   "metadata": {},
   "source": [
    "<div dir='rtl'>\n",
    "داده های با مقادیر باینری\n",
    "</div>"
   ]
  },
  {
   "cell_type": "code",
   "execution_count": 9,
   "metadata": {
    "scrolled": true
   },
   "outputs": [
    {
     "data": {
      "text/plain": [
       "['Diabetes_binary',\n",
       " 'HighBP',\n",
       " 'High Cholesterol',\n",
       " 'Cholesterol Check',\n",
       " 'Smoker',\n",
       " 'Stroke',\n",
       " 'HeartDiseaseorAttack',\n",
       " 'Physical Activity',\n",
       " 'Fruits',\n",
       " 'Veggies',\n",
       " 'Heavy Alcohol Consumption',\n",
       " 'Any Health Care',\n",
       " 'No Doctor because of Cost',\n",
       " 'Difficulty Walking']"
      ]
     },
     "execution_count": 9,
     "metadata": {},
     "output_type": "execute_result"
    }
   ],
   "source": [
    "# finding binary columns\n",
    "bool_cols = [col for col in df \n",
    "             if np.isin(df[col].dropna().unique(), [0, 1]).all()]\n",
    "bool_cols"
   ]
  },
  {
   "cell_type": "markdown",
   "metadata": {},
   "source": [
    "<div dir='rtl'>\n",
    "حال به بررسی مقادیر مربوط به هر متغیر\n",
    "    categorical \n",
    "    می پردازیم تا اگر مقادیر بی ربط دیده ایم آنها را حذف یا جایگزین کنیم.\n",
    "</div>"
   ]
  },
  {
   "cell_type": "code",
   "execution_count": 10,
   "metadata": {},
   "outputs": [
    {
     "name": "stdout",
     "output_type": "stream",
     "text": [
      "---- General Health ---\n",
      "Medium      23427\n",
      "Good        19871\n",
      "Low         13303\n",
      "High         8282\n",
      "Very Low     5808\n",
      "Name: General Health, dtype: int64\n",
      "---- Sex ---\n",
      "female    38385\n",
      "male      32306\n",
      "Name: Sex, dtype: int64\n",
      "---- Education ---\n",
      "Cat6    26019\n",
      "Cat5    20030\n",
      "Cat4    19473\n",
      "Cat3     3447\n",
      "Cat2     1647\n",
      "Cat1       75\n",
      "Name: Education, dtype: int64\n",
      "---- Income ---\n",
      "Cat8       20645\n",
      "Cat7       11425\n",
      "Cat6       10287\n",
      "Cat5        8010\n",
      "Cat4        6658\n",
      "Cat3        5556\n",
      "Cat2        4498\n",
      "Cat1        3611\n",
      "Unknown        1\n",
      "Name: Income, dtype: int64\n"
     ]
    }
   ],
   "source": [
    "for c in df.select_dtypes(['object']).columns:\n",
    "    print(f\"---- {c} ---\")\n",
    "    print(df[c].value_counts())"
   ]
  },
  {
   "cell_type": "markdown",
   "metadata": {},
   "source": [
    "<div dir='rtl'>\n",
    "همانطور که دیده می شود یک سطر وجود دارد مقدار \n",
    "    income \n",
    "    آن \n",
    "    Unknown \n",
    "    است.\n",
    "    از آنجایی که فقط یک سطر این ویژگی را دارد می توانیم با اطمینان از عملکرد مدل این سطر را حذف کنیم.\n",
    "</div>"
   ]
  },
  {
   "cell_type": "code",
   "execution_count": 11,
   "metadata": {
    "scrolled": true
   },
   "outputs": [
    {
     "name": "stdout",
     "output_type": "stream",
     "text": [
      "---- General Health ---\n",
      "Medium      23427\n",
      "Good        19871\n",
      "Low         13302\n",
      "High         8282\n",
      "Very Low     5808\n",
      "Name: General Health, dtype: int64\n",
      "---- Sex ---\n",
      "female    38384\n",
      "male      32306\n",
      "Name: Sex, dtype: int64\n",
      "---- Education ---\n",
      "Cat6    26019\n",
      "Cat5    20029\n",
      "Cat4    19473\n",
      "Cat3     3447\n",
      "Cat2     1647\n",
      "Cat1       75\n",
      "Name: Education, dtype: int64\n",
      "---- Income ---\n",
      "Cat8    20645\n",
      "Cat7    11425\n",
      "Cat6    10287\n",
      "Cat5     8010\n",
      "Cat4     6658\n",
      "Cat3     5556\n",
      "Cat2     4498\n",
      "Cat1     3611\n",
      "Name: Income, dtype: int64\n"
     ]
    }
   ],
   "source": [
    "df.drop(df[df.Income == 'Unknown'].index , inplace= True)\n",
    "for c in df.select_dtypes(['object']).columns:\n",
    "    print(f\"---- {c} ---\")\n",
    "    print(df[c].value_counts())"
   ]
  },
  {
   "cell_type": "code",
   "execution_count": 12,
   "metadata": {
    "scrolled": true
   },
   "outputs": [
    {
     "data": {
      "text/html": [
       "<div>\n",
       "<style scoped>\n",
       "    .dataframe tbody tr th:only-of-type {\n",
       "        vertical-align: middle;\n",
       "    }\n",
       "\n",
       "    .dataframe tbody tr th {\n",
       "        vertical-align: top;\n",
       "    }\n",
       "\n",
       "    .dataframe thead th {\n",
       "        text-align: right;\n",
       "    }\n",
       "</style>\n",
       "<table border=\"1\" class=\"dataframe\">\n",
       "  <thead>\n",
       "    <tr style=\"text-align: right;\">\n",
       "      <th></th>\n",
       "      <th>Diabetes_binary</th>\n",
       "      <th>HighBP</th>\n",
       "      <th>High Cholesterol</th>\n",
       "      <th>Cholesterol Check</th>\n",
       "      <th>BMI</th>\n",
       "      <th>Smoker</th>\n",
       "      <th>Stroke</th>\n",
       "      <th>HeartDiseaseorAttack</th>\n",
       "      <th>Physical Activity</th>\n",
       "      <th>Fruits</th>\n",
       "      <th>...</th>\n",
       "      <th>Any Health Care</th>\n",
       "      <th>No Doctor because of Cost</th>\n",
       "      <th>General Health</th>\n",
       "      <th>Mental Health</th>\n",
       "      <th>Physical Health</th>\n",
       "      <th>Difficulty Walking</th>\n",
       "      <th>Sex</th>\n",
       "      <th>Age</th>\n",
       "      <th>Education</th>\n",
       "      <th>Income</th>\n",
       "    </tr>\n",
       "  </thead>\n",
       "  <tbody>\n",
       "    <tr>\n",
       "      <th>10000</th>\n",
       "      <td>0.0</td>\n",
       "      <td>0.0</td>\n",
       "      <td>1.0</td>\n",
       "      <td>1.0</td>\n",
       "      <td>21.0</td>\n",
       "      <td>1.0</td>\n",
       "      <td>1.0</td>\n",
       "      <td>0.0</td>\n",
       "      <td>0.0</td>\n",
       "      <td>NaN</td>\n",
       "      <td>...</td>\n",
       "      <td>1.0</td>\n",
       "      <td>0.0</td>\n",
       "      <td>Low</td>\n",
       "      <td>0.0</td>\n",
       "      <td>30.0</td>\n",
       "      <td>0.0</td>\n",
       "      <td>male</td>\n",
       "      <td>13.0</td>\n",
       "      <td>Cat5</td>\n",
       "      <td>Cat7</td>\n",
       "    </tr>\n",
       "    <tr>\n",
       "      <th>11691</th>\n",
       "      <td>0.0</td>\n",
       "      <td>0.0</td>\n",
       "      <td>0.0</td>\n",
       "      <td>1.0</td>\n",
       "      <td>27.0</td>\n",
       "      <td>0.0</td>\n",
       "      <td>0.0</td>\n",
       "      <td>NaN</td>\n",
       "      <td>NaN</td>\n",
       "      <td>NaN</td>\n",
       "      <td>...</td>\n",
       "      <td>NaN</td>\n",
       "      <td>NaN</td>\n",
       "      <td>NaN</td>\n",
       "      <td>NaN</td>\n",
       "      <td>NaN</td>\n",
       "      <td>NaN</td>\n",
       "      <td>NaN</td>\n",
       "      <td>NaN</td>\n",
       "      <td>NaN</td>\n",
       "      <td>NaN</td>\n",
       "    </tr>\n",
       "    <tr>\n",
       "      <th>20000</th>\n",
       "      <td>0.0</td>\n",
       "      <td>1.0</td>\n",
       "      <td>0.0</td>\n",
       "      <td>1.0</td>\n",
       "      <td>26.0</td>\n",
       "      <td>0.0</td>\n",
       "      <td>0.0</td>\n",
       "      <td>0.0</td>\n",
       "      <td>1.0</td>\n",
       "      <td>1.0</td>\n",
       "      <td>...</td>\n",
       "      <td>NaN</td>\n",
       "      <td>0.0</td>\n",
       "      <td>Good</td>\n",
       "      <td>0.0</td>\n",
       "      <td>0.0</td>\n",
       "      <td>1.0</td>\n",
       "      <td>female</td>\n",
       "      <td>13.0</td>\n",
       "      <td>Cat3</td>\n",
       "      <td>Cat5</td>\n",
       "    </tr>\n",
       "    <tr>\n",
       "      <th>30000</th>\n",
       "      <td>0.0</td>\n",
       "      <td>0.0</td>\n",
       "      <td>0.0</td>\n",
       "      <td>1.0</td>\n",
       "      <td>22.0</td>\n",
       "      <td>0.0</td>\n",
       "      <td>0.0</td>\n",
       "      <td>0.0</td>\n",
       "      <td>1.0</td>\n",
       "      <td>1.0</td>\n",
       "      <td>...</td>\n",
       "      <td>1.0</td>\n",
       "      <td>NaN</td>\n",
       "      <td>Good</td>\n",
       "      <td>0.0</td>\n",
       "      <td>0.0</td>\n",
       "      <td>0.0</td>\n",
       "      <td>female</td>\n",
       "      <td>6.0</td>\n",
       "      <td>Cat6</td>\n",
       "      <td>Cat5</td>\n",
       "    </tr>\n",
       "    <tr>\n",
       "      <th>40000</th>\n",
       "      <td>1.0</td>\n",
       "      <td>1.0</td>\n",
       "      <td>0.0</td>\n",
       "      <td>1.0</td>\n",
       "      <td>32.0</td>\n",
       "      <td>1.0</td>\n",
       "      <td>0.0</td>\n",
       "      <td>0.0</td>\n",
       "      <td>0.0</td>\n",
       "      <td>1.0</td>\n",
       "      <td>...</td>\n",
       "      <td>1.0</td>\n",
       "      <td>0.0</td>\n",
       "      <td>Medium</td>\n",
       "      <td>0.0</td>\n",
       "      <td>0.0</td>\n",
       "      <td>NaN</td>\n",
       "      <td>male</td>\n",
       "      <td>8.0</td>\n",
       "      <td>Cat5</td>\n",
       "      <td>Cat7</td>\n",
       "    </tr>\n",
       "    <tr>\n",
       "      <th>50000</th>\n",
       "      <td>1.0</td>\n",
       "      <td>1.0</td>\n",
       "      <td>1.0</td>\n",
       "      <td>1.0</td>\n",
       "      <td>NaN</td>\n",
       "      <td>0.0</td>\n",
       "      <td>0.0</td>\n",
       "      <td>0.0</td>\n",
       "      <td>0.0</td>\n",
       "      <td>1.0</td>\n",
       "      <td>...</td>\n",
       "      <td>1.0</td>\n",
       "      <td>0.0</td>\n",
       "      <td>Medium</td>\n",
       "      <td>2.0</td>\n",
       "      <td>2.0</td>\n",
       "      <td>0.0</td>\n",
       "      <td>female</td>\n",
       "      <td>9.0</td>\n",
       "      <td>Cat6</td>\n",
       "      <td>Cat8</td>\n",
       "    </tr>\n",
       "  </tbody>\n",
       "</table>\n",
       "<p>6 rows × 22 columns</p>\n",
       "</div>"
      ],
      "text/plain": [
       "       Diabetes_binary  HighBP  High Cholesterol  Cholesterol Check   BMI  \\\n",
       "10000              0.0     0.0               1.0                1.0  21.0   \n",
       "11691              0.0     0.0               0.0                1.0  27.0   \n",
       "20000              0.0     1.0               0.0                1.0  26.0   \n",
       "30000              0.0     0.0               0.0                1.0  22.0   \n",
       "40000              1.0     1.0               0.0                1.0  32.0   \n",
       "50000              1.0     1.0               1.0                1.0   NaN   \n",
       "\n",
       "       Smoker  Stroke  HeartDiseaseorAttack  Physical Activity  Fruits  ...  \\\n",
       "10000     1.0     1.0                   0.0                0.0     NaN  ...   \n",
       "11691     0.0     0.0                   NaN                NaN     NaN  ...   \n",
       "20000     0.0     0.0                   0.0                1.0     1.0  ...   \n",
       "30000     0.0     0.0                   0.0                1.0     1.0  ...   \n",
       "40000     1.0     0.0                   0.0                0.0     1.0  ...   \n",
       "50000     0.0     0.0                   0.0                0.0     1.0  ...   \n",
       "\n",
       "       Any Health Care  No Doctor because of Cost  General Health  \\\n",
       "10000              1.0                        0.0             Low   \n",
       "11691              NaN                        NaN             NaN   \n",
       "20000              NaN                        0.0            Good   \n",
       "30000              1.0                        NaN            Good   \n",
       "40000              1.0                        0.0          Medium   \n",
       "50000              1.0                        0.0          Medium   \n",
       "\n",
       "       Mental Health Physical Health  Difficulty Walking     Sex   Age  \\\n",
       "10000            0.0            30.0                 0.0    male  13.0   \n",
       "11691            NaN             NaN                 NaN     NaN   NaN   \n",
       "20000            0.0             0.0                 1.0  female  13.0   \n",
       "30000            0.0             0.0                 0.0  female   6.0   \n",
       "40000            0.0             0.0                 NaN    male   8.0   \n",
       "50000            2.0             2.0                 0.0  female   9.0   \n",
       "\n",
       "      Education  Income  \n",
       "10000      Cat5    Cat7  \n",
       "11691       NaN     NaN  \n",
       "20000      Cat3    Cat5  \n",
       "30000      Cat6    Cat5  \n",
       "40000      Cat5    Cat7  \n",
       "50000      Cat6    Cat8  \n",
       "\n",
       "[6 rows x 22 columns]"
      ]
     },
     "execution_count": 12,
     "metadata": {},
     "output_type": "execute_result"
    }
   ],
   "source": [
    "df[df.isna().any(axis=1)]"
   ]
  },
  {
   "cell_type": "markdown",
   "metadata": {},
   "source": [
    "<div dir='rtl'>\n",
    "حال داده هایی که متغیر \n",
    "    categorical \n",
    "    با مقدار\n",
    "    null \n",
    "    دارند را حذف میکنیم.\n",
    "    این تصمیم به این دلیل گرفته شده است که تعداد آن ها بسیار کم است.\n",
    "</div>"
   ]
  },
  {
   "cell_type": "code",
   "execution_count": 13,
   "metadata": {},
   "outputs": [],
   "source": [
    "df.dropna(subset=df.select_dtypes(['object']).columns, inplace=True)"
   ]
  },
  {
   "cell_type": "code",
   "execution_count": 14,
   "metadata": {},
   "outputs": [
    {
     "data": {
      "text/plain": [
       "General Health    0\n",
       "Sex               0\n",
       "Education         0\n",
       "Income            0\n",
       "dtype: int64"
      ]
     },
     "execution_count": 14,
     "metadata": {},
     "output_type": "execute_result"
    }
   ],
   "source": [
    "df.select_dtypes(['object']).isna().sum()"
   ]
  },
  {
   "cell_type": "markdown",
   "metadata": {},
   "source": [
    "<div dir='rtl'>\n",
    "همانطور که دیده می شود همچنان  داده های پرت در دیتاست وجود دارند. این داده ها مربوط به متغیر های عددی هستند که در فاز بعد به آن ها رسیدگی می شود.\n",
    "</div>"
   ]
  },
  {
   "cell_type": "code",
   "execution_count": 15,
   "metadata": {},
   "outputs": [
    {
     "data": {
      "text/html": [
       "<div>\n",
       "<style scoped>\n",
       "    .dataframe tbody tr th:only-of-type {\n",
       "        vertical-align: middle;\n",
       "    }\n",
       "\n",
       "    .dataframe tbody tr th {\n",
       "        vertical-align: top;\n",
       "    }\n",
       "\n",
       "    .dataframe thead th {\n",
       "        text-align: right;\n",
       "    }\n",
       "</style>\n",
       "<table border=\"1\" class=\"dataframe\">\n",
       "  <thead>\n",
       "    <tr style=\"text-align: right;\">\n",
       "      <th></th>\n",
       "      <th>Diabetes_binary</th>\n",
       "      <th>HighBP</th>\n",
       "      <th>High Cholesterol</th>\n",
       "      <th>Cholesterol Check</th>\n",
       "      <th>BMI</th>\n",
       "      <th>Smoker</th>\n",
       "      <th>Stroke</th>\n",
       "      <th>HeartDiseaseorAttack</th>\n",
       "      <th>Physical Activity</th>\n",
       "      <th>Fruits</th>\n",
       "      <th>...</th>\n",
       "      <th>Any Health Care</th>\n",
       "      <th>No Doctor because of Cost</th>\n",
       "      <th>General Health</th>\n",
       "      <th>Mental Health</th>\n",
       "      <th>Physical Health</th>\n",
       "      <th>Difficulty Walking</th>\n",
       "      <th>Sex</th>\n",
       "      <th>Age</th>\n",
       "      <th>Education</th>\n",
       "      <th>Income</th>\n",
       "    </tr>\n",
       "  </thead>\n",
       "  <tbody>\n",
       "    <tr>\n",
       "      <th>10000</th>\n",
       "      <td>0.0</td>\n",
       "      <td>0.0</td>\n",
       "      <td>1.0</td>\n",
       "      <td>1.0</td>\n",
       "      <td>21.0</td>\n",
       "      <td>1.0</td>\n",
       "      <td>1.0</td>\n",
       "      <td>0.0</td>\n",
       "      <td>0.0</td>\n",
       "      <td>NaN</td>\n",
       "      <td>...</td>\n",
       "      <td>1.0</td>\n",
       "      <td>0.0</td>\n",
       "      <td>Low</td>\n",
       "      <td>0.0</td>\n",
       "      <td>30.0</td>\n",
       "      <td>0.0</td>\n",
       "      <td>male</td>\n",
       "      <td>13.0</td>\n",
       "      <td>Cat5</td>\n",
       "      <td>Cat7</td>\n",
       "    </tr>\n",
       "    <tr>\n",
       "      <th>20000</th>\n",
       "      <td>0.0</td>\n",
       "      <td>1.0</td>\n",
       "      <td>0.0</td>\n",
       "      <td>1.0</td>\n",
       "      <td>26.0</td>\n",
       "      <td>0.0</td>\n",
       "      <td>0.0</td>\n",
       "      <td>0.0</td>\n",
       "      <td>1.0</td>\n",
       "      <td>1.0</td>\n",
       "      <td>...</td>\n",
       "      <td>NaN</td>\n",
       "      <td>0.0</td>\n",
       "      <td>Good</td>\n",
       "      <td>0.0</td>\n",
       "      <td>0.0</td>\n",
       "      <td>1.0</td>\n",
       "      <td>female</td>\n",
       "      <td>13.0</td>\n",
       "      <td>Cat3</td>\n",
       "      <td>Cat5</td>\n",
       "    </tr>\n",
       "    <tr>\n",
       "      <th>30000</th>\n",
       "      <td>0.0</td>\n",
       "      <td>0.0</td>\n",
       "      <td>0.0</td>\n",
       "      <td>1.0</td>\n",
       "      <td>22.0</td>\n",
       "      <td>0.0</td>\n",
       "      <td>0.0</td>\n",
       "      <td>0.0</td>\n",
       "      <td>1.0</td>\n",
       "      <td>1.0</td>\n",
       "      <td>...</td>\n",
       "      <td>1.0</td>\n",
       "      <td>NaN</td>\n",
       "      <td>Good</td>\n",
       "      <td>0.0</td>\n",
       "      <td>0.0</td>\n",
       "      <td>0.0</td>\n",
       "      <td>female</td>\n",
       "      <td>6.0</td>\n",
       "      <td>Cat6</td>\n",
       "      <td>Cat5</td>\n",
       "    </tr>\n",
       "    <tr>\n",
       "      <th>40000</th>\n",
       "      <td>1.0</td>\n",
       "      <td>1.0</td>\n",
       "      <td>0.0</td>\n",
       "      <td>1.0</td>\n",
       "      <td>32.0</td>\n",
       "      <td>1.0</td>\n",
       "      <td>0.0</td>\n",
       "      <td>0.0</td>\n",
       "      <td>0.0</td>\n",
       "      <td>1.0</td>\n",
       "      <td>...</td>\n",
       "      <td>1.0</td>\n",
       "      <td>0.0</td>\n",
       "      <td>Medium</td>\n",
       "      <td>0.0</td>\n",
       "      <td>0.0</td>\n",
       "      <td>NaN</td>\n",
       "      <td>male</td>\n",
       "      <td>8.0</td>\n",
       "      <td>Cat5</td>\n",
       "      <td>Cat7</td>\n",
       "    </tr>\n",
       "    <tr>\n",
       "      <th>50000</th>\n",
       "      <td>1.0</td>\n",
       "      <td>1.0</td>\n",
       "      <td>1.0</td>\n",
       "      <td>1.0</td>\n",
       "      <td>NaN</td>\n",
       "      <td>0.0</td>\n",
       "      <td>0.0</td>\n",
       "      <td>0.0</td>\n",
       "      <td>0.0</td>\n",
       "      <td>1.0</td>\n",
       "      <td>...</td>\n",
       "      <td>1.0</td>\n",
       "      <td>0.0</td>\n",
       "      <td>Medium</td>\n",
       "      <td>2.0</td>\n",
       "      <td>2.0</td>\n",
       "      <td>0.0</td>\n",
       "      <td>female</td>\n",
       "      <td>9.0</td>\n",
       "      <td>Cat6</td>\n",
       "      <td>Cat8</td>\n",
       "    </tr>\n",
       "  </tbody>\n",
       "</table>\n",
       "<p>5 rows × 22 columns</p>\n",
       "</div>"
      ],
      "text/plain": [
       "       Diabetes_binary  HighBP  High Cholesterol  Cholesterol Check   BMI  \\\n",
       "10000              0.0     0.0               1.0                1.0  21.0   \n",
       "20000              0.0     1.0               0.0                1.0  26.0   \n",
       "30000              0.0     0.0               0.0                1.0  22.0   \n",
       "40000              1.0     1.0               0.0                1.0  32.0   \n",
       "50000              1.0     1.0               1.0                1.0   NaN   \n",
       "\n",
       "       Smoker  Stroke  HeartDiseaseorAttack  Physical Activity  Fruits  ...  \\\n",
       "10000     1.0     1.0                   0.0                0.0     NaN  ...   \n",
       "20000     0.0     0.0                   0.0                1.0     1.0  ...   \n",
       "30000     0.0     0.0                   0.0                1.0     1.0  ...   \n",
       "40000     1.0     0.0                   0.0                0.0     1.0  ...   \n",
       "50000     0.0     0.0                   0.0                0.0     1.0  ...   \n",
       "\n",
       "       Any Health Care  No Doctor because of Cost  General Health  \\\n",
       "10000              1.0                        0.0             Low   \n",
       "20000              NaN                        0.0            Good   \n",
       "30000              1.0                        NaN            Good   \n",
       "40000              1.0                        0.0          Medium   \n",
       "50000              1.0                        0.0          Medium   \n",
       "\n",
       "       Mental Health Physical Health  Difficulty Walking     Sex   Age  \\\n",
       "10000            0.0            30.0                 0.0    male  13.0   \n",
       "20000            0.0             0.0                 1.0  female  13.0   \n",
       "30000            0.0             0.0                 0.0  female   6.0   \n",
       "40000            0.0             0.0                 NaN    male   8.0   \n",
       "50000            2.0             2.0                 0.0  female   9.0   \n",
       "\n",
       "      Education  Income  \n",
       "10000      Cat5    Cat7  \n",
       "20000      Cat3    Cat5  \n",
       "30000      Cat6    Cat5  \n",
       "40000      Cat5    Cat7  \n",
       "50000      Cat6    Cat8  \n",
       "\n",
       "[5 rows x 22 columns]"
      ]
     },
     "execution_count": 15,
     "metadata": {},
     "output_type": "execute_result"
    }
   ],
   "source": [
    "df[df.isna().any(axis=1)]"
   ]
  },
  {
   "cell_type": "code",
   "execution_count": 16,
   "metadata": {},
   "outputs": [
    {
     "data": {
      "text/plain": [
       "Diabetes_binary              0\n",
       "HighBP                       0\n",
       "High Cholesterol             0\n",
       "Cholesterol Check            0\n",
       "BMI                          1\n",
       "Smoker                       0\n",
       "Stroke                       0\n",
       "HeartDiseaseorAttack         0\n",
       "Physical Activity            0\n",
       "Fruits                       1\n",
       "Veggies                      0\n",
       "Heavy Alcohol Consumption    0\n",
       "Any Health Care              1\n",
       "No Doctor because of Cost    1\n",
       "General Health               0\n",
       "Mental Health                0\n",
       "Physical Health              0\n",
       "Difficulty Walking           1\n",
       "Sex                          0\n",
       "Age                          0\n",
       "Education                    0\n",
       "Income                       0\n",
       "dtype: int64"
      ]
     },
     "execution_count": 16,
     "metadata": {},
     "output_type": "execute_result"
    }
   ],
   "source": [
    "df.isna().sum()"
   ]
  },
  {
   "cell_type": "markdown",
   "metadata": {},
   "source": [
    "<div dir='rtl'>\n",
    "در این بخش نام ستون هارا تغییر می دهیم.</div>"
   ]
  },
  {
   "cell_type": "code",
   "execution_count": 17,
   "metadata": {},
   "outputs": [
    {
     "data": {
      "text/plain": [
       "{'High Cholesterol': 'High_Cholesterol',\n",
       " 'Cholesterol Check': 'Cholesterol_Check',\n",
       " 'Physical Activity': 'Physical_Activity',\n",
       " 'Heavy Alcohol Consumption': 'Heavy_Alcohol_Consumption',\n",
       " 'Any Health Care': 'Any_Health_Care',\n",
       " 'No Doctor because of Cost': 'No_Doctor_because_of_Cost',\n",
       " 'General Health': 'General_Health',\n",
       " 'Mental Health': 'Mental_Health',\n",
       " 'Physical Health': 'Physical_Health',\n",
       " 'Difficulty Walking': 'Difficulty_Walking'}"
      ]
     },
     "execution_count": 17,
     "metadata": {},
     "output_type": "execute_result"
    }
   ],
   "source": [
    "re_cols = { col:col.replace(\" \", \"_\")   for col in df.columns if \" \" in col}\n",
    "re_cols"
   ]
  },
  {
   "cell_type": "code",
   "execution_count": 18,
   "metadata": {},
   "outputs": [
    {
     "data": {
      "text/html": [
       "<div>\n",
       "<style scoped>\n",
       "    .dataframe tbody tr th:only-of-type {\n",
       "        vertical-align: middle;\n",
       "    }\n",
       "\n",
       "    .dataframe tbody tr th {\n",
       "        vertical-align: top;\n",
       "    }\n",
       "\n",
       "    .dataframe thead th {\n",
       "        text-align: right;\n",
       "    }\n",
       "</style>\n",
       "<table border=\"1\" class=\"dataframe\">\n",
       "  <thead>\n",
       "    <tr style=\"text-align: right;\">\n",
       "      <th></th>\n",
       "      <th>Diabetes_binary</th>\n",
       "      <th>HighBP</th>\n",
       "      <th>High_Cholesterol</th>\n",
       "      <th>Cholesterol_Check</th>\n",
       "      <th>BMI</th>\n",
       "      <th>Smoker</th>\n",
       "      <th>Stroke</th>\n",
       "      <th>HeartDiseaseorAttack</th>\n",
       "      <th>Physical_Activity</th>\n",
       "      <th>Fruits</th>\n",
       "      <th>...</th>\n",
       "      <th>Any_Health_Care</th>\n",
       "      <th>No_Doctor_because_of_Cost</th>\n",
       "      <th>General_Health</th>\n",
       "      <th>Mental_Health</th>\n",
       "      <th>Physical_Health</th>\n",
       "      <th>Difficulty_Walking</th>\n",
       "      <th>Sex</th>\n",
       "      <th>Age</th>\n",
       "      <th>Education</th>\n",
       "      <th>Income</th>\n",
       "    </tr>\n",
       "  </thead>\n",
       "  <tbody>\n",
       "    <tr>\n",
       "      <th>0</th>\n",
       "      <td>0.0</td>\n",
       "      <td>1.0</td>\n",
       "      <td>0.0</td>\n",
       "      <td>1.0</td>\n",
       "      <td>26.0</td>\n",
       "      <td>0.0</td>\n",
       "      <td>0.0</td>\n",
       "      <td>0.0</td>\n",
       "      <td>1.0</td>\n",
       "      <td>0.0</td>\n",
       "      <td>...</td>\n",
       "      <td>1.0</td>\n",
       "      <td>0.0</td>\n",
       "      <td>Medium</td>\n",
       "      <td>5.0</td>\n",
       "      <td>30.0</td>\n",
       "      <td>0.0</td>\n",
       "      <td>male</td>\n",
       "      <td>4.0</td>\n",
       "      <td>Cat6</td>\n",
       "      <td>Cat8</td>\n",
       "    </tr>\n",
       "    <tr>\n",
       "      <th>1</th>\n",
       "      <td>0.0</td>\n",
       "      <td>1.0</td>\n",
       "      <td>1.0</td>\n",
       "      <td>1.0</td>\n",
       "      <td>26.0</td>\n",
       "      <td>1.0</td>\n",
       "      <td>1.0</td>\n",
       "      <td>0.0</td>\n",
       "      <td>0.0</td>\n",
       "      <td>1.0</td>\n",
       "      <td>...</td>\n",
       "      <td>1.0</td>\n",
       "      <td>0.0</td>\n",
       "      <td>Medium</td>\n",
       "      <td>0.0</td>\n",
       "      <td>0.0</td>\n",
       "      <td>0.0</td>\n",
       "      <td>male</td>\n",
       "      <td>12.0</td>\n",
       "      <td>Cat6</td>\n",
       "      <td>Cat8</td>\n",
       "    </tr>\n",
       "    <tr>\n",
       "      <th>2</th>\n",
       "      <td>0.0</td>\n",
       "      <td>0.0</td>\n",
       "      <td>0.0</td>\n",
       "      <td>1.0</td>\n",
       "      <td>26.0</td>\n",
       "      <td>0.0</td>\n",
       "      <td>0.0</td>\n",
       "      <td>0.0</td>\n",
       "      <td>1.0</td>\n",
       "      <td>1.0</td>\n",
       "      <td>...</td>\n",
       "      <td>1.0</td>\n",
       "      <td>0.0</td>\n",
       "      <td>High</td>\n",
       "      <td>0.0</td>\n",
       "      <td>10.0</td>\n",
       "      <td>0.0</td>\n",
       "      <td>male</td>\n",
       "      <td>13.0</td>\n",
       "      <td>Cat6</td>\n",
       "      <td>Cat8</td>\n",
       "    </tr>\n",
       "    <tr>\n",
       "      <th>3</th>\n",
       "      <td>0.0</td>\n",
       "      <td>1.0</td>\n",
       "      <td>1.0</td>\n",
       "      <td>1.0</td>\n",
       "      <td>28.0</td>\n",
       "      <td>1.0</td>\n",
       "      <td>0.0</td>\n",
       "      <td>0.0</td>\n",
       "      <td>1.0</td>\n",
       "      <td>1.0</td>\n",
       "      <td>...</td>\n",
       "      <td>1.0</td>\n",
       "      <td>0.0</td>\n",
       "      <td>Medium</td>\n",
       "      <td>0.0</td>\n",
       "      <td>3.0</td>\n",
       "      <td>0.0</td>\n",
       "      <td>male</td>\n",
       "      <td>11.0</td>\n",
       "      <td>Cat6</td>\n",
       "      <td>Cat8</td>\n",
       "    </tr>\n",
       "    <tr>\n",
       "      <th>4</th>\n",
       "      <td>0.0</td>\n",
       "      <td>0.0</td>\n",
       "      <td>0.0</td>\n",
       "      <td>1.0</td>\n",
       "      <td>29.0</td>\n",
       "      <td>1.0</td>\n",
       "      <td>0.0</td>\n",
       "      <td>0.0</td>\n",
       "      <td>1.0</td>\n",
       "      <td>1.0</td>\n",
       "      <td>...</td>\n",
       "      <td>1.0</td>\n",
       "      <td>0.0</td>\n",
       "      <td>Good</td>\n",
       "      <td>0.0</td>\n",
       "      <td>0.0</td>\n",
       "      <td>0.0</td>\n",
       "      <td>female</td>\n",
       "      <td>8.0</td>\n",
       "      <td>Cat5</td>\n",
       "      <td>Cat8</td>\n",
       "    </tr>\n",
       "    <tr>\n",
       "      <th>...</th>\n",
       "      <td>...</td>\n",
       "      <td>...</td>\n",
       "      <td>...</td>\n",
       "      <td>...</td>\n",
       "      <td>...</td>\n",
       "      <td>...</td>\n",
       "      <td>...</td>\n",
       "      <td>...</td>\n",
       "      <td>...</td>\n",
       "      <td>...</td>\n",
       "      <td>...</td>\n",
       "      <td>...</td>\n",
       "      <td>...</td>\n",
       "      <td>...</td>\n",
       "      <td>...</td>\n",
       "      <td>...</td>\n",
       "      <td>...</td>\n",
       "      <td>...</td>\n",
       "      <td>...</td>\n",
       "      <td>...</td>\n",
       "      <td>...</td>\n",
       "    </tr>\n",
       "    <tr>\n",
       "      <th>70687</th>\n",
       "      <td>1.0</td>\n",
       "      <td>0.0</td>\n",
       "      <td>1.0</td>\n",
       "      <td>1.0</td>\n",
       "      <td>37.0</td>\n",
       "      <td>0.0</td>\n",
       "      <td>0.0</td>\n",
       "      <td>0.0</td>\n",
       "      <td>0.0</td>\n",
       "      <td>0.0</td>\n",
       "      <td>...</td>\n",
       "      <td>1.0</td>\n",
       "      <td>0.0</td>\n",
       "      <td>Low</td>\n",
       "      <td>0.0</td>\n",
       "      <td>0.0</td>\n",
       "      <td>0.0</td>\n",
       "      <td>female</td>\n",
       "      <td>6.0</td>\n",
       "      <td>Cat4</td>\n",
       "      <td>Cat1</td>\n",
       "    </tr>\n",
       "    <tr>\n",
       "      <th>70688</th>\n",
       "      <td>1.0</td>\n",
       "      <td>0.0</td>\n",
       "      <td>1.0</td>\n",
       "      <td>1.0</td>\n",
       "      <td>29.0</td>\n",
       "      <td>1.0</td>\n",
       "      <td>0.0</td>\n",
       "      <td>1.0</td>\n",
       "      <td>0.0</td>\n",
       "      <td>1.0</td>\n",
       "      <td>...</td>\n",
       "      <td>1.0</td>\n",
       "      <td>0.0</td>\n",
       "      <td>Good</td>\n",
       "      <td>0.0</td>\n",
       "      <td>0.0</td>\n",
       "      <td>1.0</td>\n",
       "      <td>male</td>\n",
       "      <td>10.0</td>\n",
       "      <td>Cat3</td>\n",
       "      <td>Cat6</td>\n",
       "    </tr>\n",
       "    <tr>\n",
       "      <th>70689</th>\n",
       "      <td>1.0</td>\n",
       "      <td>1.0</td>\n",
       "      <td>1.0</td>\n",
       "      <td>1.0</td>\n",
       "      <td>25.0</td>\n",
       "      <td>0.0</td>\n",
       "      <td>0.0</td>\n",
       "      <td>1.0</td>\n",
       "      <td>0.0</td>\n",
       "      <td>1.0</td>\n",
       "      <td>...</td>\n",
       "      <td>1.0</td>\n",
       "      <td>0.0</td>\n",
       "      <td>Very Low</td>\n",
       "      <td>15.0</td>\n",
       "      <td>0.0</td>\n",
       "      <td>1.0</td>\n",
       "      <td>female</td>\n",
       "      <td>13.0</td>\n",
       "      <td>Cat6</td>\n",
       "      <td>Cat4</td>\n",
       "    </tr>\n",
       "    <tr>\n",
       "      <th>70690</th>\n",
       "      <td>1.0</td>\n",
       "      <td>1.0</td>\n",
       "      <td>1.0</td>\n",
       "      <td>1.0</td>\n",
       "      <td>18.0</td>\n",
       "      <td>0.0</td>\n",
       "      <td>0.0</td>\n",
       "      <td>0.0</td>\n",
       "      <td>0.0</td>\n",
       "      <td>0.0</td>\n",
       "      <td>...</td>\n",
       "      <td>1.0</td>\n",
       "      <td>0.0</td>\n",
       "      <td>Low</td>\n",
       "      <td>0.0</td>\n",
       "      <td>0.0</td>\n",
       "      <td>1.0</td>\n",
       "      <td>female</td>\n",
       "      <td>11.0</td>\n",
       "      <td>Cat2</td>\n",
       "      <td>Cat4</td>\n",
       "    </tr>\n",
       "    <tr>\n",
       "      <th>70691</th>\n",
       "      <td>1.0</td>\n",
       "      <td>1.0</td>\n",
       "      <td>1.0</td>\n",
       "      <td>1.0</td>\n",
       "      <td>25.0</td>\n",
       "      <td>0.0</td>\n",
       "      <td>0.0</td>\n",
       "      <td>1.0</td>\n",
       "      <td>1.0</td>\n",
       "      <td>1.0</td>\n",
       "      <td>...</td>\n",
       "      <td>1.0</td>\n",
       "      <td>0.0</td>\n",
       "      <td>Good</td>\n",
       "      <td>0.0</td>\n",
       "      <td>0.0</td>\n",
       "      <td>0.0</td>\n",
       "      <td>female</td>\n",
       "      <td>9.0</td>\n",
       "      <td>Cat6</td>\n",
       "      <td>Cat2</td>\n",
       "    </tr>\n",
       "  </tbody>\n",
       "</table>\n",
       "<p>70690 rows × 22 columns</p>\n",
       "</div>"
      ],
      "text/plain": [
       "       Diabetes_binary  HighBP  High_Cholesterol  Cholesterol_Check   BMI  \\\n",
       "0                  0.0     1.0               0.0                1.0  26.0   \n",
       "1                  0.0     1.0               1.0                1.0  26.0   \n",
       "2                  0.0     0.0               0.0                1.0  26.0   \n",
       "3                  0.0     1.0               1.0                1.0  28.0   \n",
       "4                  0.0     0.0               0.0                1.0  29.0   \n",
       "...                ...     ...               ...                ...   ...   \n",
       "70687              1.0     0.0               1.0                1.0  37.0   \n",
       "70688              1.0     0.0               1.0                1.0  29.0   \n",
       "70689              1.0     1.0               1.0                1.0  25.0   \n",
       "70690              1.0     1.0               1.0                1.0  18.0   \n",
       "70691              1.0     1.0               1.0                1.0  25.0   \n",
       "\n",
       "       Smoker  Stroke  HeartDiseaseorAttack  Physical_Activity  Fruits  ...  \\\n",
       "0         0.0     0.0                   0.0                1.0     0.0  ...   \n",
       "1         1.0     1.0                   0.0                0.0     1.0  ...   \n",
       "2         0.0     0.0                   0.0                1.0     1.0  ...   \n",
       "3         1.0     0.0                   0.0                1.0     1.0  ...   \n",
       "4         1.0     0.0                   0.0                1.0     1.0  ...   \n",
       "...       ...     ...                   ...                ...     ...  ...   \n",
       "70687     0.0     0.0                   0.0                0.0     0.0  ...   \n",
       "70688     1.0     0.0                   1.0                0.0     1.0  ...   \n",
       "70689     0.0     0.0                   1.0                0.0     1.0  ...   \n",
       "70690     0.0     0.0                   0.0                0.0     0.0  ...   \n",
       "70691     0.0     0.0                   1.0                1.0     1.0  ...   \n",
       "\n",
       "       Any_Health_Care  No_Doctor_because_of_Cost  General_Health  \\\n",
       "0                  1.0                        0.0          Medium   \n",
       "1                  1.0                        0.0          Medium   \n",
       "2                  1.0                        0.0            High   \n",
       "3                  1.0                        0.0          Medium   \n",
       "4                  1.0                        0.0            Good   \n",
       "...                ...                        ...             ...   \n",
       "70687              1.0                        0.0             Low   \n",
       "70688              1.0                        0.0            Good   \n",
       "70689              1.0                        0.0        Very Low   \n",
       "70690              1.0                        0.0             Low   \n",
       "70691              1.0                        0.0            Good   \n",
       "\n",
       "       Mental_Health Physical_Health  Difficulty_Walking     Sex   Age  \\\n",
       "0                5.0            30.0                 0.0    male   4.0   \n",
       "1                0.0             0.0                 0.0    male  12.0   \n",
       "2                0.0            10.0                 0.0    male  13.0   \n",
       "3                0.0             3.0                 0.0    male  11.0   \n",
       "4                0.0             0.0                 0.0  female   8.0   \n",
       "...              ...             ...                 ...     ...   ...   \n",
       "70687            0.0             0.0                 0.0  female   6.0   \n",
       "70688            0.0             0.0                 1.0    male  10.0   \n",
       "70689           15.0             0.0                 1.0  female  13.0   \n",
       "70690            0.0             0.0                 1.0  female  11.0   \n",
       "70691            0.0             0.0                 0.0  female   9.0   \n",
       "\n",
       "      Education  Income  \n",
       "0          Cat6    Cat8  \n",
       "1          Cat6    Cat8  \n",
       "2          Cat6    Cat8  \n",
       "3          Cat6    Cat8  \n",
       "4          Cat5    Cat8  \n",
       "...         ...     ...  \n",
       "70687      Cat4    Cat1  \n",
       "70688      Cat3    Cat6  \n",
       "70689      Cat6    Cat4  \n",
       "70690      Cat2    Cat4  \n",
       "70691      Cat6    Cat2  \n",
       "\n",
       "[70690 rows x 22 columns]"
      ]
     },
     "execution_count": 18,
     "metadata": {},
     "output_type": "execute_result"
    }
   ],
   "source": [
    "df.rename(columns = re_cols, inplace = True)\n",
    "df"
   ]
  },
  {
   "cell_type": "markdown",
   "metadata": {},
   "source": [
    "**3- Normalization**"
   ]
  },
  {
   "cell_type": "code",
   "execution_count": 19,
   "metadata": {},
   "outputs": [
    {
     "name": "stdout",
     "output_type": "stream",
     "text": [
      "<class 'pandas.core.frame.DataFrame'>\n",
      "Int64Index: 70690 entries, 0 to 70691\n",
      "Data columns (total 22 columns):\n",
      " #   Column                     Non-Null Count  Dtype  \n",
      "---  ------                     --------------  -----  \n",
      " 0   Diabetes_binary            70690 non-null  float64\n",
      " 1   HighBP                     70690 non-null  float64\n",
      " 2   High_Cholesterol           70690 non-null  float64\n",
      " 3   Cholesterol_Check          70690 non-null  float64\n",
      " 4   BMI                        70689 non-null  float64\n",
      " 5   Smoker                     70690 non-null  float64\n",
      " 6   Stroke                     70690 non-null  float64\n",
      " 7   HeartDiseaseorAttack       70690 non-null  float64\n",
      " 8   Physical_Activity          70690 non-null  float64\n",
      " 9   Fruits                     70689 non-null  float64\n",
      " 10  Veggies                    70690 non-null  float64\n",
      " 11  Heavy_Alcohol_Consumption  70690 non-null  float64\n",
      " 12  Any_Health_Care            70689 non-null  float64\n",
      " 13  No_Doctor_because_of_Cost  70689 non-null  float64\n",
      " 14  General_Health             70690 non-null  object \n",
      " 15  Mental_Health              70690 non-null  float64\n",
      " 16  Physical_Health            70690 non-null  float64\n",
      " 17  Difficulty_Walking         70689 non-null  float64\n",
      " 18  Sex                        70690 non-null  object \n",
      " 19  Age                        70690 non-null  float64\n",
      " 20  Education                  70690 non-null  object \n",
      " 21  Income                     70690 non-null  object \n",
      "dtypes: float64(18), object(4)\n",
      "memory usage: 12.4+ MB\n"
     ]
    }
   ],
   "source": [
    "df.info()"
   ]
  },
  {
   "cell_type": "code",
   "execution_count": 20,
   "metadata": {},
   "outputs": [
    {
     "data": {
      "text/plain": [
       "0        0.0\n",
       "1        0.0\n",
       "2        0.0\n",
       "3        0.0\n",
       "4        0.0\n",
       "        ... \n",
       "70687    1.0\n",
       "70688    1.0\n",
       "70689    1.0\n",
       "70690    1.0\n",
       "70691    1.0\n",
       "Name: Diabetes_binary, Length: 70690, dtype: float64"
      ]
     },
     "execution_count": 20,
     "metadata": {},
     "output_type": "execute_result"
    }
   ],
   "source": [
    "Y = df.Diabetes_binary\n",
    "df.drop(columns=['Diabetes_binary'], inplace=True )\n",
    "Y"
   ]
  },
  {
   "cell_type": "markdown",
   "metadata": {},
   "source": [
    "<div dir='rtl'>\n",
    "در این جا ستون های با مقادیر باینری را داخل یک آرایه نگه می داریم. این ستون ها نیازی به نورمال سازی ندارند چرا که مقادیر آن ها یا یک است یا صفر.</div>"
   ]
  },
  {
   "cell_type": "code",
   "execution_count": 21,
   "metadata": {},
   "outputs": [
    {
     "data": {
      "text/plain": [
       "['HighBP',\n",
       " 'High_Cholesterol',\n",
       " 'Cholesterol_Check',\n",
       " 'Smoker',\n",
       " 'Stroke',\n",
       " 'HeartDiseaseorAttack',\n",
       " 'Physical_Activity',\n",
       " 'Fruits',\n",
       " 'Veggies',\n",
       " 'Heavy_Alcohol_Consumption',\n",
       " 'Any_Health_Care',\n",
       " 'No_Doctor_because_of_Cost',\n",
       " 'Difficulty_Walking']"
      ]
     },
     "execution_count": 21,
     "metadata": {},
     "output_type": "execute_result"
    }
   ],
   "source": [
    "# finding binary columns\n",
    "bool_cols = [col for col in df \n",
    "             if np.isin(df[col].dropna().unique(), [0, 1]).all()]\n",
    "bool_cols"
   ]
  },
  {
   "cell_type": "code",
   "execution_count": 22,
   "metadata": {},
   "outputs": [],
   "source": [
    "from sklearn.pipeline import Pipeline\n",
    "from sklearn.preprocessing import StandardScaler, OneHotEncoder\n",
    "from sklearn.impute import SimpleImputer\n",
    "from sklearn.compose import ColumnTransformer"
   ]
  },
  {
   "cell_type": "code",
   "execution_count": 23,
   "metadata": {},
   "outputs": [
    {
     "data": {
      "text/plain": [
       "['Mental_Health', 'Age', 'Physical_Health', 'BMI']"
      ]
     },
     "execution_count": 23,
     "metadata": {},
     "output_type": "execute_result"
    }
   ],
   "source": [
    "numeric_col = list(set(df.select_dtypes(['float64']).columns).difference(bool_cols))\n",
    "cat_cols = list(df.select_dtypes(['object']).columns)\n",
    "numeric_col"
   ]
  },
  {
   "cell_type": "code",
   "execution_count": 24,
   "metadata": {
    "scrolled": true
   },
   "outputs": [
    {
     "data": {
      "text/plain": [
       "21"
      ]
     },
     "execution_count": 24,
     "metadata": {},
     "output_type": "execute_result"
    }
   ],
   "source": [
    "len(numeric_col + cat_cols + bool_cols)"
   ]
  },
  {
   "cell_type": "markdown",
   "metadata": {},
   "source": [
    "<div dir='rtl'>\n",
    "    پردازش داده در این بخش اتفاق می افتد.\n",
    "    برای داده های عددی در ابتدا \n",
    "    missing \n",
    "    ها با میانگین جایگزین می شوند و سپس با کمک\n",
    "    <code>StandardScaler</code>\n",
    "    نورمالایز می‌شوند.\n",
    "    <br>\n",
    "    داده های باینری\n",
    "    missing \n",
    "    نیز با مقداری که بیشترین تکرار را دارد جایگزین می شود.\n",
    "    <br>\n",
    "    داده های \n",
    "    categorical \n",
    "    نیز \n",
    "    one hot encode \n",
    "    می شوند.\n",
    "</div>"
   ]
  },
  {
   "cell_type": "code",
   "execution_count": 25,
   "metadata": {},
   "outputs": [],
   "source": [
    "numeric_transformer = Pipeline(\n",
    "    steps=[(\"imputer\", SimpleImputer(strategy=\"mean\")), (\"scaler\", StandardScaler())]\n",
    ")\n",
    "\n",
    "\n",
    "\n",
    "full_pipeline = ColumnTransformer([\n",
    "    (\"num\", numeric_transformer , numeric_col),\n",
    "    (\"cat\", OneHotEncoder() , cat_cols),\n",
    "    (\"bin\", SimpleImputer(strategy= 'most_frequent') , bool_cols)\n",
    "],remainder='passthrough')"
   ]
  },
  {
   "cell_type": "code",
   "execution_count": 26,
   "metadata": {},
   "outputs": [],
   "source": [
    "df_preprocessed = full_pipeline.fit_transform(df)"
   ]
  },
  {
   "cell_type": "code",
   "execution_count": 27,
   "metadata": {},
   "outputs": [
    {
     "data": {
      "text/plain": [
       "(70690, 38)"
      ]
     },
     "execution_count": 27,
     "metadata": {},
     "output_type": "execute_result"
    }
   ],
   "source": [
    "df_preprocessed.shape"
   ]
  },
  {
   "cell_type": "markdown",
   "metadata": {},
   "source": [
    "<div dir='rtl'>\n",
    "همانطور که دیده می شود هیچ داده \n",
    "    missing \n",
    "    ای دیگر نداریم.\n",
    "</div>"
   ]
  },
  {
   "cell_type": "code",
   "execution_count": 28,
   "metadata": {},
   "outputs": [
    {
     "data": {
      "text/plain": [
       "0"
      ]
     },
     "execution_count": 28,
     "metadata": {},
     "output_type": "execute_result"
    }
   ],
   "source": [
    "np.count_nonzero(np.isnan(df_preprocessed))"
   ]
  },
  {
   "cell_type": "markdown",
   "metadata": {},
   "source": [
    "We have successfully removed all the nan values."
   ]
  },
  {
   "cell_type": "markdown",
   "metadata": {},
   "source": [
    "<div dir='rtl'>\n",
    "در این بخش به تعلیم مدل خود می پردازیم.\n",
    "</div>"
   ]
  },
  {
   "cell_type": "code",
   "execution_count": 29,
   "metadata": {},
   "outputs": [],
   "source": [
    "from sklearn.model_selection import train_test_split\n",
    "import xgboost as xgb"
   ]
  },
  {
   "cell_type": "code",
   "execution_count": 30,
   "metadata": {},
   "outputs": [],
   "source": [
    "X_train, X_test, y_train, y_test = train_test_split(df_preprocessed, Y, test_size=0.2, random_state=123)"
   ]
  },
  {
   "cell_type": "code",
   "execution_count": 31,
   "metadata": {},
   "outputs": [
    {
     "data": {
      "text/plain": [
       "(56552, 38)"
      ]
     },
     "execution_count": 31,
     "metadata": {},
     "output_type": "execute_result"
    }
   ],
   "source": [
    "X_train.shape"
   ]
  },
  {
   "cell_type": "code",
   "execution_count": 32,
   "metadata": {},
   "outputs": [],
   "source": [
    "xgbc = xgb.XGBClassifier(n_estimators=200, \n",
    "                         learning_rate=0.1, \n",
    "                         subsample=0.5,\n",
    "                         colsample_bytree=1, \n",
    "                         max_depth=4,\n",
    "                        eval_metric= 'auc',\n",
    "                        verbosity = 1,\n",
    "                        seed = 123)"
   ]
  },
  {
   "cell_type": "code",
   "execution_count": 33,
   "metadata": {},
   "outputs": [
    {
     "name": "stdout",
     "output_type": "stream",
     "text": [
      "[0]\tvalidation_0-auc:0.78426\tvalidation_1-auc:0.77618\n"
     ]
    },
    {
     "name": "stderr",
     "output_type": "stream",
     "text": [
      "/home/alirezaak/anaconda3/lib/python3.8/site-packages/xgboost/sklearn.py:793: UserWarning: `early_stopping_rounds` in `fit` method is deprecated for better compatibility with scikit-learn, use `early_stopping_rounds` in constructor or`set_params` instead.\n",
      "  warnings.warn(\n"
     ]
    },
    {
     "name": "stdout",
     "output_type": "stream",
     "text": [
      "[1]\tvalidation_0-auc:0.80195\tvalidation_1-auc:0.79323\n",
      "[2]\tvalidation_0-auc:0.80636\tvalidation_1-auc:0.79843\n",
      "[3]\tvalidation_0-auc:0.81031\tvalidation_1-auc:0.80176\n",
      "[4]\tvalidation_0-auc:0.81214\tvalidation_1-auc:0.80370\n",
      "[5]\tvalidation_0-auc:0.81355\tvalidation_1-auc:0.80436\n",
      "[6]\tvalidation_0-auc:0.81454\tvalidation_1-auc:0.80587\n",
      "[7]\tvalidation_0-auc:0.81526\tvalidation_1-auc:0.80617\n",
      "[8]\tvalidation_0-auc:0.81685\tvalidation_1-auc:0.80731\n",
      "[9]\tvalidation_0-auc:0.81898\tvalidation_1-auc:0.80898\n",
      "[10]\tvalidation_0-auc:0.81944\tvalidation_1-auc:0.80980\n",
      "[11]\tvalidation_0-auc:0.82049\tvalidation_1-auc:0.81117\n",
      "[12]\tvalidation_0-auc:0.82174\tvalidation_1-auc:0.81219\n",
      "[13]\tvalidation_0-auc:0.82267\tvalidation_1-auc:0.81285\n",
      "[14]\tvalidation_0-auc:0.82386\tvalidation_1-auc:0.81375\n",
      "[15]\tvalidation_0-auc:0.82465\tvalidation_1-auc:0.81413\n",
      "[16]\tvalidation_0-auc:0.82570\tvalidation_1-auc:0.81474\n",
      "[17]\tvalidation_0-auc:0.82621\tvalidation_1-auc:0.81541\n",
      "[18]\tvalidation_0-auc:0.82681\tvalidation_1-auc:0.81583\n",
      "[19]\tvalidation_0-auc:0.82742\tvalidation_1-auc:0.81627\n",
      "[20]\tvalidation_0-auc:0.82811\tvalidation_1-auc:0.81708\n",
      "[21]\tvalidation_0-auc:0.82856\tvalidation_1-auc:0.81744\n",
      "[22]\tvalidation_0-auc:0.82905\tvalidation_1-auc:0.81767\n",
      "[23]\tvalidation_0-auc:0.82949\tvalidation_1-auc:0.81804\n",
      "[24]\tvalidation_0-auc:0.82998\tvalidation_1-auc:0.81836\n",
      "[25]\tvalidation_0-auc:0.83018\tvalidation_1-auc:0.81859\n",
      "[26]\tvalidation_0-auc:0.83040\tvalidation_1-auc:0.81880\n",
      "[27]\tvalidation_0-auc:0.83075\tvalidation_1-auc:0.81915\n",
      "[28]\tvalidation_0-auc:0.83106\tvalidation_1-auc:0.81949\n",
      "[29]\tvalidation_0-auc:0.83137\tvalidation_1-auc:0.81967\n",
      "[30]\tvalidation_0-auc:0.83177\tvalidation_1-auc:0.81988\n",
      "[31]\tvalidation_0-auc:0.83200\tvalidation_1-auc:0.82006\n",
      "[32]\tvalidation_0-auc:0.83216\tvalidation_1-auc:0.82015\n",
      "[33]\tvalidation_0-auc:0.83246\tvalidation_1-auc:0.82029\n",
      "[34]\tvalidation_0-auc:0.83269\tvalidation_1-auc:0.82054\n",
      "[35]\tvalidation_0-auc:0.83286\tvalidation_1-auc:0.82070\n",
      "[36]\tvalidation_0-auc:0.83305\tvalidation_1-auc:0.82082\n",
      "[37]\tvalidation_0-auc:0.83327\tvalidation_1-auc:0.82098\n",
      "[38]\tvalidation_0-auc:0.83355\tvalidation_1-auc:0.82113\n",
      "[39]\tvalidation_0-auc:0.83380\tvalidation_1-auc:0.82123\n",
      "[40]\tvalidation_0-auc:0.83405\tvalidation_1-auc:0.82133\n",
      "[41]\tvalidation_0-auc:0.83422\tvalidation_1-auc:0.82147\n",
      "[42]\tvalidation_0-auc:0.83440\tvalidation_1-auc:0.82159\n",
      "[43]\tvalidation_0-auc:0.83456\tvalidation_1-auc:0.82168\n",
      "[44]\tvalidation_0-auc:0.83478\tvalidation_1-auc:0.82183\n",
      "[45]\tvalidation_0-auc:0.83490\tvalidation_1-auc:0.82193\n",
      "[46]\tvalidation_0-auc:0.83499\tvalidation_1-auc:0.82197\n",
      "[47]\tvalidation_0-auc:0.83508\tvalidation_1-auc:0.82202\n",
      "[48]\tvalidation_0-auc:0.83521\tvalidation_1-auc:0.82205\n",
      "[49]\tvalidation_0-auc:0.83535\tvalidation_1-auc:0.82208\n",
      "[50]\tvalidation_0-auc:0.83549\tvalidation_1-auc:0.82215\n",
      "[51]\tvalidation_0-auc:0.83561\tvalidation_1-auc:0.82222\n",
      "[52]\tvalidation_0-auc:0.83572\tvalidation_1-auc:0.82228\n",
      "[53]\tvalidation_0-auc:0.83585\tvalidation_1-auc:0.82238\n",
      "[54]\tvalidation_0-auc:0.83595\tvalidation_1-auc:0.82248\n",
      "[55]\tvalidation_0-auc:0.83603\tvalidation_1-auc:0.82258\n",
      "[56]\tvalidation_0-auc:0.83612\tvalidation_1-auc:0.82263\n",
      "[57]\tvalidation_0-auc:0.83626\tvalidation_1-auc:0.82264\n",
      "[58]\tvalidation_0-auc:0.83637\tvalidation_1-auc:0.82267\n",
      "[59]\tvalidation_0-auc:0.83648\tvalidation_1-auc:0.82270\n",
      "[60]\tvalidation_0-auc:0.83658\tvalidation_1-auc:0.82275\n",
      "[61]\tvalidation_0-auc:0.83667\tvalidation_1-auc:0.82275\n",
      "[62]\tvalidation_0-auc:0.83680\tvalidation_1-auc:0.82284\n",
      "[63]\tvalidation_0-auc:0.83689\tvalidation_1-auc:0.82285\n",
      "[64]\tvalidation_0-auc:0.83702\tvalidation_1-auc:0.82300\n",
      "[65]\tvalidation_0-auc:0.83707\tvalidation_1-auc:0.82297\n",
      "[66]\tvalidation_0-auc:0.83719\tvalidation_1-auc:0.82307\n",
      "[67]\tvalidation_0-auc:0.83725\tvalidation_1-auc:0.82307\n",
      "[68]\tvalidation_0-auc:0.83731\tvalidation_1-auc:0.82312\n",
      "[69]\tvalidation_0-auc:0.83740\tvalidation_1-auc:0.82316\n",
      "[70]\tvalidation_0-auc:0.83746\tvalidation_1-auc:0.82322\n",
      "[71]\tvalidation_0-auc:0.83752\tvalidation_1-auc:0.82325\n",
      "[72]\tvalidation_0-auc:0.83760\tvalidation_1-auc:0.82328\n",
      "[73]\tvalidation_0-auc:0.83772\tvalidation_1-auc:0.82329\n",
      "[74]\tvalidation_0-auc:0.83783\tvalidation_1-auc:0.82328\n",
      "[75]\tvalidation_0-auc:0.83791\tvalidation_1-auc:0.82331\n",
      "[76]\tvalidation_0-auc:0.83796\tvalidation_1-auc:0.82333\n",
      "[77]\tvalidation_0-auc:0.83803\tvalidation_1-auc:0.82335\n",
      "[78]\tvalidation_0-auc:0.83813\tvalidation_1-auc:0.82338\n",
      "[79]\tvalidation_0-auc:0.83822\tvalidation_1-auc:0.82335\n",
      "[80]\tvalidation_0-auc:0.83829\tvalidation_1-auc:0.82335\n",
      "[81]\tvalidation_0-auc:0.83834\tvalidation_1-auc:0.82336\n",
      "[82]\tvalidation_0-auc:0.83839\tvalidation_1-auc:0.82339\n",
      "[83]\tvalidation_0-auc:0.83847\tvalidation_1-auc:0.82344\n",
      "[84]\tvalidation_0-auc:0.83852\tvalidation_1-auc:0.82345\n",
      "[85]\tvalidation_0-auc:0.83861\tvalidation_1-auc:0.82351\n",
      "[86]\tvalidation_0-auc:0.83863\tvalidation_1-auc:0.82350\n",
      "[87]\tvalidation_0-auc:0.83873\tvalidation_1-auc:0.82350\n",
      "[88]\tvalidation_0-auc:0.83880\tvalidation_1-auc:0.82352\n",
      "[89]\tvalidation_0-auc:0.83886\tvalidation_1-auc:0.82354\n",
      "[90]\tvalidation_0-auc:0.83892\tvalidation_1-auc:0.82349\n",
      "[91]\tvalidation_0-auc:0.83899\tvalidation_1-auc:0.82350\n",
      "[92]\tvalidation_0-auc:0.83906\tvalidation_1-auc:0.82347\n",
      "[93]\tvalidation_0-auc:0.83911\tvalidation_1-auc:0.82351\n",
      "[94]\tvalidation_0-auc:0.83921\tvalidation_1-auc:0.82358\n",
      "[95]\tvalidation_0-auc:0.83931\tvalidation_1-auc:0.82363\n",
      "[96]\tvalidation_0-auc:0.83934\tvalidation_1-auc:0.82359\n",
      "[97]\tvalidation_0-auc:0.83940\tvalidation_1-auc:0.82363\n",
      "[98]\tvalidation_0-auc:0.83945\tvalidation_1-auc:0.82361\n",
      "[99]\tvalidation_0-auc:0.83950\tvalidation_1-auc:0.82356\n",
      "[100]\tvalidation_0-auc:0.83959\tvalidation_1-auc:0.82365\n",
      "[101]\tvalidation_0-auc:0.83964\tvalidation_1-auc:0.82362\n",
      "[102]\tvalidation_0-auc:0.83966\tvalidation_1-auc:0.82360\n",
      "[103]\tvalidation_0-auc:0.83975\tvalidation_1-auc:0.82361\n",
      "[104]\tvalidation_0-auc:0.83979\tvalidation_1-auc:0.82362\n",
      "[105]\tvalidation_0-auc:0.83988\tvalidation_1-auc:0.82360\n",
      "[106]\tvalidation_0-auc:0.83992\tvalidation_1-auc:0.82353\n",
      "[107]\tvalidation_0-auc:0.83998\tvalidation_1-auc:0.82345\n",
      "[108]\tvalidation_0-auc:0.84003\tvalidation_1-auc:0.82344\n",
      "[109]\tvalidation_0-auc:0.84009\tvalidation_1-auc:0.82344\n"
     ]
    },
    {
     "data": {
      "text/plain": [
       "XGBClassifier(base_score=0.5, booster='gbtree', callbacks=None,\n",
       "              colsample_bylevel=1, colsample_bynode=1, colsample_bytree=1,\n",
       "              early_stopping_rounds=None, enable_categorical=False,\n",
       "              eval_metric='auc', gamma=0, gpu_id=-1, grow_policy='depthwise',\n",
       "              importance_type=None, interaction_constraints='',\n",
       "              learning_rate=0.1, max_bin=256, max_cat_to_onehot=4,\n",
       "              max_delta_step=0, max_depth=4, max_leaves=0, min_child_weight=1,\n",
       "              missing=nan, monotone_constraints='()', n_estimators=200,\n",
       "              n_jobs=0, num_parallel_tree=1, predictor='auto', random_state=123,\n",
       "              reg_alpha=0, reg_lambda=1, ...)"
      ]
     },
     "execution_count": 33,
     "metadata": {},
     "output_type": "execute_result"
    }
   ],
   "source": [
    "xgbc.fit(X_train,y_train,\n",
    "        early_stopping_rounds = 10,\n",
    "        eval_set=[(X_train, y_train), (X_test, y_test)],\n",
    "        )"
   ]
  },
  {
   "cell_type": "markdown",
   "metadata": {},
   "source": [
    "<div dir='rtl'>\n",
    "    نمودار \n",
    "    AUC\n",
    "    رسم شده از هر گام تعلیم نشان دهنده پیشرفت در تعلیم است.\n",
    "</div>"
   ]
  },
  {
   "cell_type": "code",
   "execution_count": 91,
   "metadata": {},
   "outputs": [
    {
     "data": {
      "text/plain": [
       "<matplotlib.legend.Legend at 0x7fe446a614f0>"
      ]
     },
     "execution_count": 91,
     "metadata": {},
     "output_type": "execute_result"
    },
    {
     "data": {
      "image/png": "[encoded data removed]",
      "text/plain": [
       "<Figure size 720x504 with 1 Axes>"
      ]
     },
     "metadata": {
      "needs_background": "light"
     },
     "output_type": "display_data"
    }
   ],
   "source": [
    "results = xgbc.evals_result()\n",
    "\n",
    "plt.figure(figsize=(10,7))\n",
    "plt.plot(results[\"validation_0\"][\"auc\"], label=\"Training auc\")\n",
    "plt.plot(results[\"validation_1\"][\"auc\"], label=\"Validation auc\")\n",
    "plt.xlabel(\"Number of trees\")\n",
    "plt.ylabel(\"AUC\")\n",
    "plt.legend()"
   ]
  },
  {
   "cell_type": "code",
   "execution_count": 38,
   "metadata": {},
   "outputs": [
    {
     "data": {
      "text/plain": [
       "{'validation_0': OrderedDict([('auc',\n",
       "               [0.7842645248582134,\n",
       "                0.8019458881695658,\n",
       "                0.8063639312464382,\n",
       "                0.8103051308846291,\n",
       "                0.8121432109615301,\n",
       "                0.813547091931545,\n",
       "                0.8145406127459731,\n",
       "                0.815264311902335,\n",
       "                0.8168529678834606,\n",
       "                0.8189758752752071,\n",
       "                0.8194380119820498,\n",
       "                0.8204891221245524,\n",
       "                0.821744274178758,\n",
       "                0.8226709271100112,\n",
       "                0.8238550576001782,\n",
       "                0.8246520208829964,\n",
       "                0.8256971575296225,\n",
       "                0.8262058508578548,\n",
       "                0.8268104978411647,\n",
       "                0.8274152917854807,\n",
       "                0.8281103716929639,\n",
       "                0.828560427579733,\n",
       "                0.8290455477372092,\n",
       "                0.829491049708885,\n",
       "                0.8299811215142202,\n",
       "                0.8301816301081152,\n",
       "                0.8303966953460132,\n",
       "                0.8307518994725682,\n",
       "                0.8310620128355993,\n",
       "                0.8313697491825263,\n",
       "                0.8317703279887618,\n",
       "                0.8320019322808311,\n",
       "                0.8321617883335887,\n",
       "                0.8324629139367018,\n",
       "                0.8326917847540564,\n",
       "                0.8328605604018396,\n",
       "                0.8330475917334197,\n",
       "                0.8332650952732882,\n",
       "                0.8335456876096919,\n",
       "                0.8337970841097799,\n",
       "                0.8340450160823182,\n",
       "                0.8342153132455399,\n",
       "                0.8344006542128658,\n",
       "                0.8345577805431045,\n",
       "                0.834779394613584,\n",
       "                0.8349021214371564,\n",
       "                0.8349862250322084,\n",
       "                0.835081522053003,\n",
       "                0.8352085832882085,\n",
       "                0.8353450312668296,\n",
       "                0.8354892400373086,\n",
       "                0.8356053623707269,\n",
       "                0.8357193853505379,\n",
       "                0.8358461876842261,\n",
       "                0.8359456433888125,\n",
       "                0.8360290553290866,\n",
       "                0.8361239371068679,\n",
       "                0.8362598266336656,\n",
       "                0.8363746944829206,\n",
       "                0.8364806858874028,\n",
       "                0.8365812534927081,\n",
       "                0.8366651619735732,\n",
       "                0.8368012453638258,\n",
       "                0.8368903387540619,\n",
       "                0.8370161636407176,\n",
       "                0.8370738430214938,\n",
       "                0.8371903424506003,\n",
       "                0.8372540459818976,\n",
       "                0.8373065066835396,\n",
       "                0.8373993847887091,\n",
       "                0.837459877691046,\n",
       "                0.8375204468880328,\n",
       "                0.8376041952752061,\n",
       "                0.8377175841339096,\n",
       "                0.8378256673876073,\n",
       "                0.8379099911114857,\n",
       "                0.8379563088430696,\n",
       "                0.8380346165461846,\n",
       "                0.8381297847415865,\n",
       "                0.8382224252076823,\n",
       "                0.8382922354378106,\n",
       "                0.8383400859414206,\n",
       "                0.838389651823924,\n",
       "                0.8384685605037493,\n",
       "                0.8385168700259914,\n",
       "                0.8386067407461453,\n",
       "                0.8386312394585573,\n",
       "                0.8387282674923949,\n",
       "                0.8387988106514561,\n",
       "                0.8388589377146924,\n",
       "                0.8389173637824531,\n",
       "                0.838985574326395,\n",
       "                0.8390597514871876,\n",
       "                0.8391050761375893,\n",
       "                0.8392092908773118,\n",
       "                0.839314934578307,\n",
       "                0.8393381425353287,\n",
       "                0.8393963065747421,\n",
       "                0.8394549008659524,\n",
       "                0.8394995532479217,\n",
       "                0.8395910830640304,\n",
       "                0.8396416038803909,\n",
       "                0.8396608714063493,\n",
       "                0.8397455340785908,\n",
       "                0.8397883628933516,\n",
       "                0.839875597695884,\n",
       "                0.839920263210539,\n",
       "                0.8399839598628105,\n",
       "                0.8400305890266543,\n",
       "                0.840090436551296,\n",
       "                0.8401725202142206])]),\n",
       " 'validation_1': OrderedDict([('auc',\n",
       "               [0.7761786477594736,\n",
       "                0.793231613114964,\n",
       "                0.7984260382146231,\n",
       "                0.8017596917375086,\n",
       "                0.803703812657093,\n",
       "                0.8043591205993949,\n",
       "                0.8058702351792261,\n",
       "                0.8061695023453884,\n",
       "                0.807313689704305,\n",
       "                0.8089819072891151,\n",
       "                0.8098022229159663,\n",
       "                0.8111702027600339,\n",
       "                0.8121898463890623,\n",
       "                0.8128481360965691,\n",
       "                0.8137498899348414,\n",
       "                0.8141326365208204,\n",
       "                0.8147411067351872,\n",
       "                0.8154073211341114,\n",
       "                0.8158250684405168,\n",
       "                0.8162714026703809,\n",
       "                0.8170762891631846,\n",
       "                0.817442596016842,\n",
       "                0.8176740830571698,\n",
       "                0.8180406500648384,\n",
       "                0.8183613799369227,\n",
       "                0.81859206650337,\n",
       "                0.8187990990666475,\n",
       "                0.8191457342746906,\n",
       "                0.8194888273858124,\n",
       "                0.8196673130493252,\n",
       "                0.8198833309319117,\n",
       "                0.8200554928517683,\n",
       "                0.8201515597233562,\n",
       "                0.8202893212781966,\n",
       "                0.820541450538719,\n",
       "                0.8207042068904792,\n",
       "                0.8208245581384179,\n",
       "                0.8209823915758129,\n",
       "                0.8211260966492163,\n",
       "                0.8212259657717369,\n",
       "                0.8213327289755535,\n",
       "                0.8214661179418216,\n",
       "                0.821588870611402,\n",
       "                0.8216750416246418,\n",
       "                0.8218277520292013,\n",
       "                0.821932283912076,\n",
       "                0.8219686854617934,\n",
       "                0.8220173242559595,\n",
       "                0.8220534556457423,\n",
       "                0.8220794810527833,\n",
       "                0.822147641403711,\n",
       "                0.8222205445623809,\n",
       "                0.8222846625202119,\n",
       "                0.8223820101500088,\n",
       "                0.8224756155644142,\n",
       "                0.8225757248290988,\n",
       "                0.8226309975505499,\n",
       "                0.8226441053103437,\n",
       "                0.8226746333829628,\n",
       "                0.8227045410883242,\n",
       "                0.8227499079455037,\n",
       "                0.8227487272465299,\n",
       "                0.8228379300545923,\n",
       "                0.8228488465171382,\n",
       "                0.8229955133438996,\n",
       "                0.8229681471431087,\n",
       "                0.8230738397131102,\n",
       "                0.8230726390022893,\n",
       "                0.8231153843075101,\n",
       "                0.8231646234570866,\n",
       "                0.8232217472743865,\n",
       "                0.8232548768871172,\n",
       "                0.8232776703808655,\n",
       "                0.8232880165057714,\n",
       "                0.823276239533804,\n",
       "                0.8233105598514321,\n",
       "                0.8233310920064678,\n",
       "                0.8233515441141156,\n",
       "                0.8233762087155596,\n",
       "                0.8233527448249364,\n",
       "                0.8233466011879033,\n",
       "                0.8233627807662136,\n",
       "                0.8233887061140195,\n",
       "                0.8234351736227847,\n",
       "                0.8234534544450315,\n",
       "                0.8235072262779566,\n",
       "                0.8235017030081808,\n",
       "                0.8235045146726863,\n",
       "                0.8235208843635432,\n",
       "                0.8235446584377952,\n",
       "                0.8234873545138722,\n",
       "                0.8234957494836943,\n",
       "                0.8234682532058979,\n",
       "                0.823507906680755,\n",
       "                0.8235810399756656,\n",
       "                0.8236320201559323,\n",
       "                0.8235917663256648,\n",
       "                0.8236291784736564,\n",
       "                0.8236120583385365,\n",
       "                0.8235597573763668,\n",
       "                0.8236467888990282,\n",
       "                0.8236202631958119,\n",
       "                0.823604033587884,\n",
       "                0.8236096569168948,\n",
       "                0.8236171013239838,\n",
       "                0.8236035633094793,\n",
       "                0.8235333717560795,\n",
       "                0.8234488617261418,\n",
       "                0.8234376450858909,\n",
       "                0.8234449694218977,\n",
       "                0.8234680931111218])])}"
      ]
     },
     "execution_count": 38,
     "metadata": {},
     "output_type": "execute_result"
    }
   ],
   "source": [
    "results"
   ]
  },
  {
   "cell_type": "code",
   "execution_count": 35,
   "metadata": {},
   "outputs": [],
   "source": [
    "from sklearn.metrics import classification_report,confusion_matrix, accuracy_score"
   ]
  },
  {
   "cell_type": "code",
   "execution_count": 36,
   "metadata": {},
   "outputs": [],
   "source": [
    "prediction_xgbc=xgbc.predict(X_test)"
   ]
  },
  {
   "cell_type": "markdown",
   "metadata": {},
   "source": [
    "<div dir='rtl'>\n",
    "    در اینجا به ترتیب ماتریس درهم ریختگی، \n",
    "    precision،\n",
    "    recall\n",
    "    و دقت مدل را داریم.\n",
    "</div>"
   ]
  },
  {
   "cell_type": "code",
   "execution_count": 37,
   "metadata": {},
   "outputs": [
    {
     "name": "stdout",
     "output_type": "stream",
     "text": [
      "[[5012 2076]\n",
      " [1519 5531]]\n",
      "\n",
      "\n",
      "              precision    recall  f1-score   support\n",
      "\n",
      "         0.0       0.77      0.71      0.74      7088\n",
      "         1.0       0.73      0.78      0.75      7050\n",
      "\n",
      "    accuracy                           0.75     14138\n",
      "   macro avg       0.75      0.75      0.75     14138\n",
      "weighted avg       0.75      0.75      0.75     14138\n",
      "\n",
      "\n",
      "\n",
      "Accuracy Score:  0.75\n"
     ]
    }
   ],
   "source": [
    "print(confusion_matrix(y_test,prediction_xgbc))\n",
    "print('\\n')\n",
    "print(classification_report(y_test,prediction_xgbc))\n",
    "print('\\n')\n",
    "print('Accuracy Score: ',round(accuracy_score(y_test,prediction_xgbc), ndigits=2))"
   ]
  },
  {
   "cell_type": "code",
   "execution_count": 39,
   "metadata": {},
   "outputs": [
    {
     "name": "stdout",
     "output_type": "stream",
     "text": [
      "Accuracy Score:  0.76\n"
     ]
    }
   ],
   "source": [
    "prediction_xgbc_train = xgbc.predict(X_train)\n",
    "print('Accuracy Score: ',round(accuracy_score(y_train,prediction_xgbc_train), ndigits=2))"
   ]
  },
  {
   "cell_type": "markdown",
   "metadata": {},
   "source": [
    "<div dir='rtl'>\n",
    "    حال در این بخش به انتخاب بهترین پارامتر ها می پردازیم.\n",
    "</div>"
   ]
  },
  {
   "cell_type": "code",
   "execution_count": 67,
   "metadata": {},
   "outputs": [],
   "source": [
    "params = {\n",
    "    'learning_rate' : [0.02, 0.05, 0.1, 0.3],\n",
    "    'max_depth' : [2, 3, 4],\n",
    "    'n_estimators' : [100, 200, 300],\n",
    "    'colsample_bytree' : [0.8, 1]\n",
    "}"
   ]
  },
  {
   "cell_type": "code",
   "execution_count": 68,
   "metadata": {},
   "outputs": [],
   "source": [
    "from sklearn.model_selection import KFold, GridSearchCV\n",
    "from sklearn.metrics import roc_auc_score, accuracy_score"
   ]
  },
  {
   "cell_type": "code",
   "execution_count": 69,
   "metadata": {},
   "outputs": [],
   "source": [
    "model = xgb.XGBClassifier(objective = 'binary:logistic',seed = 123 ,\n",
    "                        subsample= 0.5,\n",
    "                        eval_metric= 'auc')"
   ]
  },
  {
   "cell_type": "code",
   "execution_count": 70,
   "metadata": {},
   "outputs": [],
   "source": [
    "def my_roc_auc_score(model, X, y): \n",
    "    return roc_auc_score(y, model.predict_proba(X)[:,1])"
   ]
  },
  {
   "cell_type": "code",
   "execution_count": 71,
   "metadata": {},
   "outputs": [],
   "source": [
    "scoring = {'AUC':my_roc_auc_score,'Accuracy':make_scorer(accuracy_score)}"
   ]
  },
  {
   "cell_type": "markdown",
   "metadata": {},
   "source": [
    "<div dir='rtl'>\n",
    "    در \n",
    "    Kfold \n",
    "    مقدار\n",
    "    split \n",
    "    را پنج می‌گیریم.\n",
    "</div>"
   ]
  },
  {
   "cell_type": "code",
   "execution_count": 72,
   "metadata": {},
   "outputs": [],
   "source": [
    "# Define cross validation\n",
    "kfold = KFold(n_splits=5, random_state=123 , shuffle=True)"
   ]
  },
  {
   "cell_type": "code",
   "execution_count": 73,
   "metadata": {},
   "outputs": [],
   "source": [
    "grid = GridSearchCV(\n",
    "  model,\n",
    "  param_grid=params,\n",
    "  cv=kfold,\n",
    "  scoring=scoring,\n",
    "  refit='AUC',\n",
    "  verbose=1,\n",
    "  n_jobs=-1\n",
    ")"
   ]
  },
  {
   "cell_type": "code",
   "execution_count": 74,
   "metadata": {},
   "outputs": [
    {
     "name": "stdout",
     "output_type": "stream",
     "text": [
      "Fitting 5 folds for each of 72 candidates, totalling 360 fits\n"
     ]
    },
    {
     "name": "stderr",
     "output_type": "stream",
     "text": [
      "[Parallel(n_jobs=-1)]: Using backend LokyBackend with 8 concurrent workers.\n",
      "[Parallel(n_jobs=-1)]: Done  34 tasks      | elapsed:   49.4s\n",
      "[Parallel(n_jobs=-1)]: Done 184 tasks      | elapsed:  4.8min\n",
      "[Parallel(n_jobs=-1)]: Done 360 out of 360 | elapsed: 10.3min finished\n"
     ]
    }
   ],
   "source": [
    "m = grid.fit(X_train, y_train)"
   ]
  },
  {
   "cell_type": "markdown",
   "metadata": {},
   "source": [
    "<div dir='rtl'>\n",
    "    در اینجا اطلاعات خواسته شده برای عملکرد بهترین مدل را داریم.\n",
    "</div>"
   ]
  },
  {
   "cell_type": "code",
   "execution_count": 100,
   "metadata": {},
   "outputs": [
    {
     "name": "stdout",
     "output_type": "stream",
     "text": [
      "Best AUC Score: 0.8330686803135883\n",
      "Accuracy: 0.7453670957702645\n",
      "              precision    recall  f1-score   support\n",
      "\n",
      "         0.0       0.77      0.71      0.74      7088\n",
      "         1.0       0.73      0.78      0.75      7050\n",
      "\n",
      "    accuracy                           0.75     14138\n",
      "   macro avg       0.75      0.75      0.75     14138\n",
      "weighted avg       0.75      0.75      0.75     14138\n",
      "\n",
      "confusion : [[5024 2064]\n",
      " [1536 5514]]\n"
     ]
    }
   ],
   "source": [
    "predict = m.predict(X_test)\n",
    "print('Best AUC Score: {}'.format(m.best_score_))\n",
    "print('Accuracy: {}'.format(accuracy_score(y_test, predict)))\n",
    "print(classification_report(y_test, predict))\n",
    "print(f'confusion : {confusion_matrix(y_test,predict)}')"
   ]
  },
  {
   "cell_type": "code",
   "execution_count": 94,
   "metadata": {},
   "outputs": [
    {
     "data": {
      "text/plain": [
       "dict_keys(['mean_fit_time', 'std_fit_time', 'mean_score_time', 'std_score_time', 'param_colsample_bytree', 'param_learning_rate', 'param_max_depth', 'param_n_estimators', 'params', 'split0_test_AUC', 'split1_test_AUC', 'split2_test_AUC', 'split3_test_AUC', 'split4_test_AUC', 'mean_test_AUC', 'std_test_AUC', 'rank_test_AUC', 'split0_test_Accuracy', 'split1_test_Accuracy', 'split2_test_Accuracy', 'split3_test_Accuracy', 'split4_test_Accuracy', 'mean_test_Accuracy', 'std_test_Accuracy', 'rank_test_Accuracy'])"
      ]
     },
     "execution_count": 94,
     "metadata": {},
     "output_type": "execute_result"
    }
   ],
   "source": [
    "m.cv_results_.keys()"
   ]
  },
  {
   "cell_type": "markdown",
   "metadata": {},
   "source": [
    "<div dir='rtl'>\n",
    "    در این بخش به تاثیر پارامتر \n",
    "    <code>learning_rate</code>\n",
    "    می پردازیم.\n",
    "    از آنجایی که میخواهیم تنها تاثیر این پارامتر را بررسی کنیم دیگر پارامتر ها باید ثابت باشند.برای همین پارمتر های دیگر مقادیر به دست آمده برای بهترین مدل را می‌گیرند\n",
    "</div>"
   ]
  },
  {
   "cell_type": "code",
   "execution_count": 93,
   "metadata": {},
   "outputs": [
    {
     "data": {
      "text/plain": [
       "{'colsample_bytree': 0.8,\n",
       " 'learning_rate': 0.05,\n",
       " 'max_depth': 4,\n",
       " 'n_estimators': 200}"
      ]
     },
     "execution_count": 93,
     "metadata": {},
     "output_type": "execute_result"
    }
   ],
   "source": [
    "m.best_params_"
   ]
  },
  {
   "cell_type": "code",
   "execution_count": 98,
   "metadata": {},
   "outputs": [],
   "source": [
    "# for i in range(len(m.cv_results_['param_learning_rate'])):\n",
    "#     res[i].append(\n",
    "#         (m.cv_results_['param_colsample_bytree'],\n",
    "#         )\n",
    "#     )\n",
    "max_depth = 4\n",
    "n_estimators = 200\n",
    "colsample_bytree = 0.8\n",
    "res = dict()\n",
    "\n",
    "for i, (auc, acc) in enumerate(zip(m.cv_results_['mean_test_AUC'],\n",
    "                                 m.cv_results_['mean_test_Accuracy'])):\n",
    "    if m.cv_results_['param_max_depth'][i] == max_depth and \\\n",
    "        m.cv_results_['param_n_estimators'][i] == n_estimators and \\\n",
    "        m.cv_results_['param_colsample_bytree'][i] == colsample_bytree:\n",
    "        res[m.cv_results_['param_learning_rate'][i]] = (auc, acc)\n",
    "        "
   ]
  },
  {
   "cell_type": "code",
   "execution_count": 104,
   "metadata": {},
   "outputs": [
    {
     "data": {
      "text/plain": [
       "[]"
      ]
     },
     "execution_count": 104,
     "metadata": {},
     "output_type": "execute_result"
    },
    {
     "data": {
      "image/png": "[encoded data removed]",
      "text/plain": [
       "<Figure size 432x288 with 1 Axes>"
      ]
     },
     "metadata": {
      "needs_background": "light"
     },
     "output_type": "display_data"
    }
   ],
   "source": [
    "plt.plot([str(i) for i in res.keys()], [i[0] for i in res.values()])\n",
    "plt.xlabel(\"Learning Rate\")\n",
    "plt.ylabel(\"AUC\")\n",
    "plt.plot()"
   ]
  },
  {
   "cell_type": "code",
   "execution_count": 105,
   "metadata": {
    "scrolled": true
   },
   "outputs": [
    {
     "data": {
      "text/plain": [
       "[]"
      ]
     },
     "execution_count": 105,
     "metadata": {},
     "output_type": "execute_result"
    },
    {
     "data": {
      "image/png": "[encoded data removed]",
      "text/plain": [
       "<Figure size 432x288 with 1 Axes>"
      ]
     },
     "metadata": {
      "needs_background": "light"
     },
     "output_type": "display_data"
    }
   ],
   "source": [
    "plt.plot([str(i) for i in res.keys()], [i[1] for i in res.values()])\n",
    "plt.xlabel(\"Learning Rate\")\n",
    "plt.ylabel(\"Accuracy\")\n",
    "plt.plot()"
   ]
  },
  {
   "cell_type": "markdown",
   "metadata": {},
   "source": [
    "<div dir='rtl'>\n",
    "    افزایش \n",
    "    <code>learning_rate</code>\n",
    "    سرعت تعلیم را بالا می برد اما از طرفی افزایش بیش از حد آن می تواند به فرار از مینیمم محلی بیانجامد.\n",
    "</div>"
   ]
  },
  {
   "cell_type": "markdown",
   "metadata": {},
   "source": [
    "<div dir='rtl'>\n",
    "حال در اینجا به تاثیر \n",
    "    <code>n_estimators</code>\n",
    "    می پردازیم.\n",
    "</div>"
   ]
  },
  {
   "cell_type": "code",
   "execution_count": 112,
   "metadata": {},
   "outputs": [],
   "source": [
    "max_depth = 4\n",
    "colsample_bytree = 0.8\n",
    "learning_rate = 0.05\n",
    "res = dict()\n",
    "\n",
    "for i, (auc, acc) in enumerate(zip(m.cv_results_['mean_test_AUC'],\n",
    "                                 m.cv_results_['mean_test_Accuracy'])):\n",
    "    if m.cv_results_['param_max_depth'][i] == max_depth and \\\n",
    "        m.cv_results_['param_learning_rate'][i] == learning_rate and \\\n",
    "        m.cv_results_['param_colsample_bytree'][i] == colsample_bytree:\n",
    "        res[m.cv_results_['param_n_estimators'][i]] = (auc, acc)\n",
    "        \n",
    "        \n"
   ]
  },
  {
   "cell_type": "code",
   "execution_count": 113,
   "metadata": {},
   "outputs": [
    {
     "data": {
      "text/plain": [
       "[]"
      ]
     },
     "execution_count": 113,
     "metadata": {},
     "output_type": "execute_result"
    },
    {
     "data": {
      "image/png": "[encoded data removed]",
      "text/plain": [
       "<Figure size 432x288 with 1 Axes>"
      ]
     },
     "metadata": {
      "needs_background": "light"
     },
     "output_type": "display_data"
    }
   ],
   "source": [
    "plt.plot([str(i) for i in res.keys()], [i[0] for i in res.values()])\n",
    "plt.xlabel(\"n_estimators\")\n",
    "plt.ylabel(\"AUC\")\n",
    "plt.plot()\n",
    "\n"
   ]
  },
  {
   "cell_type": "code",
   "execution_count": null,
   "metadata": {},
   "outputs": [],
   "source": [
    "plt.plot([str(i) for i in res.keys()], [i[1] for i in res.values()])\n",
    "plt.xlabel(\"n_estimators\")\n",
    "plt.ylabel(\"Accuracy\")\n",
    "plt.plot()"
   ]
  },
  {
   "cell_type": "markdown",
   "metadata": {},
   "source": [
    "<div dir='rtl'>\n",
    "همانطور که دیده می شود افزایش تعداد پیش بینی کننده ها دقت را افزایش می دهد. \n",
    "</div>"
   ]
  },
  {
   "cell_type": "markdown",
   "metadata": {},
   "source": [
    "<div dir='rtl'>\n",
    "حال در اینجا به تاثیر \n",
    "    <code>max_depth</code>\n",
    "    می پردازیم.\n",
    "</div>"
   ]
  },
  {
   "cell_type": "code",
   "execution_count": 115,
   "metadata": {},
   "outputs": [],
   "source": [
    "# max_depth = 4\n",
    "colsample_bytree = 0.8\n",
    "learning_rate = 0.05\n",
    "n_estimators = 200\n",
    "\n",
    "res = dict()\n",
    "\n",
    "for i, (auc, acc) in enumerate(zip(m.cv_results_['mean_test_AUC'],\n",
    "                                 m.cv_results_['mean_test_Accuracy'])):\n",
    "    if m.cv_results_['param_n_estimators'][i] == n_estimators and \\\n",
    "        m.cv_results_['param_learning_rate'][i] == learning_rate and \\\n",
    "        m.cv_results_['param_colsample_bytree'][i] == colsample_bytree:\n",
    "        res[m.cv_results_['param_max_depth'][i]] = (auc, acc)\n",
    "        \n"
   ]
  },
  {
   "cell_type": "code",
   "execution_count": 117,
   "metadata": {},
   "outputs": [
    {
     "data": {
      "image/png": "[encoded data removed]",
      "text/plain": [
       "<Figure size 432x288 with 1 Axes>"
      ]
     },
     "metadata": {
      "needs_background": "light"
     },
     "output_type": "display_data"
    },
    {
     "data": {
      "image/png": "[encoded data removed]",
      "text/plain": [
       "<Figure size 432x288 with 1 Axes>"
      ]
     },
     "metadata": {
      "needs_background": "light"
     },
     "output_type": "display_data"
    }
   ],
   "source": [
    "plt.plot([str(i) for i in res.keys()], [i[0] for i in res.values()])\n",
    "plt.xlabel(\"max_depth\")\n",
    "plt.ylabel(\"AUC\")\n",
    "plt.show()\n",
    "\n",
    "plt.plot([str(i) for i in res.keys()], [i[1] for i in res.values()])\n",
    "plt.xlabel(\"max_depth\")\n",
    "plt.ylabel(\"Accuracy\")\n",
    "plt.show()"
   ]
  },
  {
   "cell_type": "markdown",
   "metadata": {},
   "source": [
    "<div dir='rtl'>\n",
    "    بدیهی است که هر چقدر عمق درخت ها بیشتر باشد دقت نیز بیشتر خواهد بود.\n",
    "</div>"
   ]
  },
  {
   "cell_type": "markdown",
   "metadata": {},
   "source": [
    "<div dir='rtl'>\n",
    "حال در اینجا به تاثیر \n",
    "    <code>colsample_bytree</code>\n",
    "    می پردازیم.\n",
    "</div>"
   ]
  },
  {
   "cell_type": "code",
   "execution_count": 118,
   "metadata": {},
   "outputs": [],
   "source": [
    "max_depth = 4\n",
    "# colsample_bytree = 0.8\n",
    "learning_rate = 0.05\n",
    "n_estimators = 200\n",
    "\n",
    "res = dict()\n",
    "\n",
    "for i, (auc, acc) in enumerate(zip(m.cv_results_['mean_test_AUC'],\n",
    "                                 m.cv_results_['mean_test_Accuracy'])):\n",
    "    if m.cv_results_['param_n_estimators'][i] == n_estimators and \\\n",
    "        m.cv_results_['param_learning_rate'][i] == learning_rate and \\\n",
    "        m.cv_results_['param_max_depth'][i] == max_depth:\n",
    "        res[m.cv_results_['param_colsample_bytree'][i]] = (auc, acc)\n",
    "        \n"
   ]
  },
  {
   "cell_type": "code",
   "execution_count": 120,
   "metadata": {},
   "outputs": [
    {
     "data": {
      "image/png": "[encoded data removed]",
      "text/plain": [
       "<Figure size 432x288 with 1 Axes>"
      ]
     },
     "metadata": {
      "needs_background": "light"
     },
     "output_type": "display_data"
    },
    {
     "data": {
      "image/png": "[encoded data removed]",
      "text/plain": [
       "<Figure size 432x288 with 1 Axes>"
      ]
     },
     "metadata": {
      "needs_background": "light"
     },
     "output_type": "display_data"
    }
   ],
   "source": [
    "plt.plot([str(i) for i in res.keys()], [i[0] for i in res.values()])\n",
    "plt.xlabel(\"colsample_bytree\")\n",
    "plt.ylabel(\"AUC\")\n",
    "plt.show()\n",
    "\n",
    "plt.plot([str(i) for i in res.keys()], [i[1] for i in res.values()])\n",
    "plt.xlabel(\"colsample_bytree\")\n",
    "plt.ylabel(\"Accuracy\")\n",
    "plt.show()"
   ]
  },
  {
   "cell_type": "code",
   "execution_count": 121,
   "metadata": {},
   "outputs": [
    {
     "data": {
      "text/plain": [
       "[0.8330686803135883, 0.8330193473926266]"
      ]
     },
     "execution_count": 121,
     "metadata": {},
     "output_type": "execute_result"
    }
   ],
   "source": [
    "[i[0] for i in res.values()]"
   ]
  },
  {
   "cell_type": "markdown",
   "metadata": {},
   "source": [
    "<div dir='rtl'>\n",
    "    تاثیر آن در این آزمایش نامحسوس است.\n",
    "</div>"
   ]
  }
 ],
 "metadata": {
  "kernelspec": {
   "display_name": "Python 3",
   "language": "python",
   "name": "python3"
  },
  "language_info": {
   "codemirror_mode": {
    "name": "ipython",
    "version": 3
   },
   "file_extension": ".py",
   "mimetype": "text/x-python",
   "name": "python",
   "nbconvert_exporter": "python",
   "pygments_lexer": "ipython3",
   "version": "3.8.5"
  }
 },
 "nbformat": 4,
 "nbformat_minor": 4
}
